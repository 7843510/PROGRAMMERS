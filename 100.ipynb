{
 "cells": [
  {
   "cell_type": "markdown",
   "id": "847bf688",
   "metadata": {},
   "source": [
    "### 출력"
   ]
  },
  {
   "cell_type": "code",
   "execution_count": 8,
   "id": "04553e28",
   "metadata": {
    "scrolled": true
   },
   "outputs": [
    {
     "name": "stdout",
     "output_type": "stream",
     "text": [
      "makit \"code\" lab\n",
      "she's gone\n",
      "makit \"code\" lab\n",
      "she's gone\n",
      "makit \"code\" lab\n",
      "she's gone\n",
      "makit \"code\" lab\n",
      "she's gone\n"
     ]
    }
   ],
   "source": [
    "print(\"makit \\\"code\\\" lab\")\n",
    "print(\"she's gone\")\n",
    "\n",
    "print('makit \"code\" lab')\n",
    "print(\"she's gone\")\n",
    "\n",
    "print(\"makit \\\"code\\\" lab\\nshe's gone\")\n",
    "\n",
    "print('makit \"code\" lab\\nshe\\'s gone')"
   ]
  },
  {
   "cell_type": "code",
   "execution_count": 4,
   "id": "4231ad4d",
   "metadata": {
    "scrolled": false
   },
   "outputs": [
    {
     "name": "stdout",
     "output_type": "stream",
     "text": [
      "Hello, world!\n",
      "Hello, world!\n",
      "\n",
      "Hello, world!\n",
      "Hello, world!\n"
     ]
    }
   ],
   "source": [
    "print(\"Hello, world!\\n\"*2)\n",
    "\n",
    "print(\"Hello, world!\")\n",
    "print(\"Hello, world!\")"
   ]
  },
  {
   "cell_type": "code",
   "execution_count": 53,
   "id": "b1602086",
   "metadata": {},
   "outputs": [
    {
     "name": "stdout",
     "output_type": "stream",
     "text": [
      "\"Python\" is a programming language that lets you work quickly\n",
      "and\n",
      "integrate systems more effectively.\n",
      "----------------------------------------------------------------------------------------------------\n",
      "\"Python\" is a programming language that lets you work quickly\n",
      "and\n",
      "integrate systems more effectively.\n",
      "----------------------------------------------------------------------------------------------------\n",
      "\"Python\" is a programming language that lets you work quickly\n",
      "and\n",
      "integrate systems more effectively.\n",
      "----------------------------------------------------------------------------------------------------\n",
      "\"Python\" is a programming language that lets you work quickly\n",
      "and\n",
      "integrate systems more effectively.\n",
      "----------------------------------------------------------------------------------------------------\n",
      "\"Python\" is a programming language that lets you work quickly\n",
      "and\n",
      "integrate systems more effectively.\n",
      "----------------------------------------------------------------------------------------------------\n",
      "\"Python\" is a programming language that lets you work quickly\n",
      "and\n",
      "integrate systems more effectively.\n"
     ]
    }
   ],
   "source": [
    "print('\"Python\" is a programming language that lets you work quickly')\n",
    "print('and')\n",
    "print('integrate systems more effectively.')\n",
    "\n",
    "print(\"-\"*100)\n",
    "\n",
    "print(\"\\\"Python\\\" is a programming language that lets you work quickly\")\n",
    "print(\"and\")\n",
    "print(\"integrate systems more effectively.\")\n",
    "\n",
    "print(\"-\"*100)\n",
    "\n",
    "print('\"Python\" is a programming language that lets you work quickly', 'and', 'integrate systems more effectively.', sep = \"\\n\")\n",
    "\n",
    "print(\"-\"*100)\n",
    "\n",
    "print(\"\\\"Python\\\" is a programming language that lets you work quickly\", \"and\", \"integrate systems more effectively.\", sep = \"\\n\")\n",
    "\n",
    "print(\"-\"*100)\n",
    "\n",
    "print('''\"Python\" is a programming language that lets you work quickly\n",
    "and\n",
    "integrate systems more effectively.''')\n",
    "\n",
    "print(\"-\"*100)\n",
    "\n",
    "print(\"\"\"\"Python\" is a programming language that lets you work quickly\n",
    "and\n",
    "integrate systems more effectively.\"\"\")"
   ]
  },
  {
   "cell_type": "markdown",
   "id": "48058f35",
   "metadata": {},
   "source": [
    "### 수 계산"
   ]
  },
  {
   "cell_type": "code",
   "execution_count": 8,
   "id": "7c83dc5a",
   "metadata": {},
   "outputs": [
    {
     "name": "stdout",
     "output_type": "stream",
     "text": [
      "12\n",
      "7\n"
     ]
    }
   ],
   "source": [
    "x = float(input())\n",
    "y = 0.2467 * x + 4.159\n",
    "print(int(y))"
   ]
  },
  {
   "cell_type": "code",
   "execution_count": 10,
   "id": "714f9e5e",
   "metadata": {},
   "outputs": [
    {
     "name": "stdout",
     "output_type": "stream",
     "text": [
      "286.2\n"
     ]
    }
   ],
   "source": [
    "AP = 102    \n",
    "print(float(AP * 0.6 + 225))"
   ]
  },
  {
   "cell_type": "markdown",
   "id": "5fb2ef30",
   "metadata": {},
   "source": [
    "### 변수 할당"
   ]
  },
  {
   "cell_type": "code",
   "execution_count": 15,
   "id": "5040b49f",
   "metadata": {},
   "outputs": [
    {
     "name": "stdout",
     "output_type": "stream",
     "text": [
      "a의 값은 10\n",
      "b의 값은 20\n",
      "a와 b의 합은 30\n"
     ]
    }
   ],
   "source": [
    "# a의 값은 10\n",
    "# b의 값은 20\n",
    "# a와 b의 합은 30\n",
    "\n",
    "a = 10\n",
    "b = 20\n",
    "\n",
    "print(\"a의 값은\", a)\n",
    "print(\"b의 값은\", b)\n",
    "print(\"a와 b의 합은\", a+b)"
   ]
  },
  {
   "cell_type": "code",
   "execution_count": 32,
   "id": "9701c9f3",
   "metadata": {},
   "outputs": [
    {
     "name": "stdout",
     "output_type": "stream",
     "text": [
      "2000/10/27 11:43:59\n"
     ]
    }
   ],
   "source": [
    "year = 2000\n",
    "month = 10\n",
    "day = 27\n",
    "hour = 11\n",
    "minute = 43\n",
    "second = 59\n",
    " \n",
    "print(year, month, day, sep = \"/\", end = \" \")\n",
    "print(hour, minute, second, sep = \":\")"
   ]
  },
  {
   "cell_type": "markdown",
   "id": "9fa42abf",
   "metadata": {},
   "source": [
    "### 변수 곱셈 출력"
   ]
  },
  {
   "cell_type": "raw",
   "id": "5472da93",
   "metadata": {},
   "source": [
    "a = 10\n",
    "b = \"makit\"\n",
    "\n",
    "print(a * 3)\n",
    "print(b * 3)"
   ]
  },
  {
   "cell_type": "markdown",
   "id": "221948f3",
   "metadata": {},
   "source": [
    "### 수 입력"
   ]
  },
  {
   "cell_type": "code",
   "execution_count": 18,
   "id": "ad7b5253",
   "metadata": {},
   "outputs": [
    {
     "name": "stdout",
     "output_type": "stream",
     "text": [
      "1\n",
      "2\n",
      "3\n",
      "2\n",
      "1\n"
     ]
    }
   ],
   "source": [
    "m = 1\n",
    "print(m)\n",
    "\n",
    "m = m + 1\n",
    "print(m)\n",
    "\n",
    "m += 1\n",
    "print(m)\n",
    "\n",
    "m = m - 1\n",
    "print(m)\n",
    "\n",
    "m -= 1\n",
    "print(m)"
   ]
  },
  {
   "cell_type": "markdown",
   "id": "4068dc9f",
   "metadata": {},
   "source": [
    "### 나머지 / 몫"
   ]
  },
  {
   "cell_type": "code",
   "execution_count": 20,
   "id": "59108dc3",
   "metadata": {},
   "outputs": [
    {
     "name": "stdout",
     "output_type": "stream",
     "text": [
      "30을 8로 나눈 몫은 3\n",
      "30을 8로 나눈 나머지는 6\n",
      "30을 8로 나눈 결과는 3.75\n"
     ]
    }
   ],
   "source": [
    "a = 30//8\n",
    "b = 30%8\n",
    "\n",
    "print(\"30을 8로 나눈 몫은\", a)\n",
    "print(\"30을 8로 나눈 나머지는\", b)\n",
    "print(\"30을 8로 나눈 결과는\", 30/8)"
   ]
  },
  {
   "cell_type": "markdown",
   "id": "b17e0080",
   "metadata": {},
   "source": [
    "### 문자열 concatenation"
   ]
  },
  {
   "cell_type": "code",
   "execution_count": 21,
   "id": "da83b638",
   "metadata": {},
   "outputs": [
    {
     "name": "stdout",
     "output_type": "stream",
     "text": [
      "46\n",
      "1234\n",
      "8\n"
     ]
    }
   ],
   "source": [
    "print(12 + 34)\n",
    "print('12' + '34')\n",
    "print(2 ** 3)"
   ]
  },
  {
   "cell_type": "markdown",
   "id": "14595efe",
   "metadata": {},
   "source": [
    "### 문자 줄바꾸기 (\\n)"
   ]
  },
  {
   "cell_type": "code",
   "execution_count": 48,
   "id": "e2b97222",
   "metadata": {},
   "outputs": [
    {
     "name": "stdout",
     "output_type": "stream",
     "text": [
      "시은 우진 화이팅!!\n",
      "\n",
      "시은 우진 화이팅!!\n"
     ]
    }
   ],
   "source": [
    "a = \"시은 우진\"\n",
    "\n",
    "print(a, \"화이팅!!\\n\")\n",
    "print(a, \"화이팅!!\")"
   ]
  },
  {
   "cell_type": "markdown",
   "id": "71f985a5",
   "metadata": {},
   "source": [
    "### 입력값 받기"
   ]
  },
  {
   "cell_type": "code",
   "execution_count": 54,
   "id": "a262c176",
   "metadata": {},
   "outputs": [
    {
     "name": "stdout",
     "output_type": "stream",
     "text": [
      "이름이 무엇인가요? 찍\n",
      "몇 살인가요? 29\n",
      "찍 님은 내년에는 30 살이 됩니다.\n"
     ]
    }
   ],
   "source": [
    "name = input(\"이름이 무엇인가요? \")\n",
    "age = int(input(\"몇 살인가요? \"))\n",
    "print(name, \"님은 내년에는\", age+1, \"살이 됩니다.\")"
   ]
  },
  {
   "cell_type": "code",
   "execution_count": 12,
   "id": "be52c125",
   "metadata": {},
   "outputs": [
    {
     "name": "stdout",
     "output_type": "stream",
     "text": [
      "1 3 5\n",
      "9\n"
     ]
    }
   ],
   "source": [
    "a, b, c = map(int, input().split())\n",
    "print(a+b+c)"
   ]
  },
  {
   "cell_type": "code",
   "execution_count": 34,
   "id": "6775f3e4",
   "metadata": {},
   "outputs": [
    {
     "name": "stdout",
     "output_type": "stream",
     "text": [
      "1999 12 31 10 37 21\n",
      "1999-12-31T10:37:21\n"
     ]
    }
   ],
   "source": [
    "year, month, day, hour, minute, second = input().split()\n",
    "\n",
    "print(year, month, day, sep = \"-\", end = \"T\")\n",
    "print(hour, minute, second, sep = \":\")"
   ]
  },
  {
   "cell_type": "code",
   "execution_count": 38,
   "id": "1d8833fd",
   "metadata": {},
   "outputs": [
    {
     "name": "stdout",
     "output_type": "stream",
     "text": [
      "90 80 85 80\n",
      "False\n"
     ]
    }
   ],
   "source": [
    "a, b, c, d = map(int, input().split())\n",
    "print(a >=90 and b>80 and c>85 and d>=80)"
   ]
  },
  {
   "cell_type": "markdown",
   "id": "d1e4358c",
   "metadata": {},
   "source": [
    "### 평균값"
   ]
  },
  {
   "cell_type": "code",
   "execution_count": 57,
   "id": "2b88fb51",
   "metadata": {},
   "outputs": [
    {
     "name": "stdout",
     "output_type": "stream",
     "text": [
      "3\n",
      "2.5\n",
      "a와 b의 합은 5.5\n",
      "a와 b의 평균값은 2.75\n"
     ]
    }
   ],
   "source": [
    "a = int(input())\n",
    "b = float(input())\n",
    "\n",
    "print(\"a와 b의 합은\", a+b)\n",
    "print(\"a와 b의 평균값은\", (a+b)/2)"
   ]
  },
  {
   "cell_type": "code",
   "execution_count": 29,
   "id": "b33649ae",
   "metadata": {},
   "outputs": [
    {
     "name": "stdout",
     "output_type": "stream",
     "text": [
      "83 92 87 90\n",
      "88\n"
     ]
    }
   ],
   "source": [
    "a, b, c, d = map(int, input().split())\n",
    "score = int((a+b+c+d)/4)\n",
    "print(score)"
   ]
  },
  {
   "cell_type": "markdown",
   "id": "aee061ee",
   "metadata": {},
   "source": [
    "### T/F"
   ]
  },
  {
   "cell_type": "code",
   "execution_count": 72,
   "id": "2d3de5fb",
   "metadata": {},
   "outputs": [
    {
     "name": "stdout",
     "output_type": "stream",
     "text": [
      "True\n",
      "False\n",
      "False\n",
      "True\n",
      "True\n",
      "False\n",
      "True\n",
      "False\n",
      "False\n",
      "True\n"
     ]
    }
   ],
   "source": [
    "a = 10\n",
    "b = 20\n",
    "print(a < b)\n",
    "print(a > b)\n",
    "print(7 > 8)\n",
    "print(7 < 8)\n",
    "print(1 <= 1)\n",
    "print(1 >= 2)\n",
    "print(1 == 1)\n",
    "print(1 == 2)\n",
    "print(1 != 1)\n",
    "print(1 != 2)"
   ]
  },
  {
   "cell_type": "markdown",
   "id": "fa16bb3c",
   "metadata": {},
   "source": [
    "### and / or / not"
   ]
  },
  {
   "cell_type": "code",
   "execution_count": 74,
   "id": "cc7a1bb7",
   "metadata": {},
   "outputs": [
    {
     "name": "stdout",
     "output_type": "stream",
     "text": [
      "False\n",
      "False\n",
      "False\n",
      "True\n",
      "False\n",
      "True\n",
      "True\n",
      "True\n",
      "True\n",
      "False\n"
     ]
    }
   ],
   "source": [
    "a = 20\n",
    "b = 30\n",
    "\n",
    "print(a > 40 and b > 40)\n",
    "print(a > 20 and b > 20)\n",
    "print(a < 30 and b > 30)\n",
    "print(a > 10 and b > 10)\n",
    "print(20 > 40 or 30 > 40)\n",
    "print(20 > 20 or 30 > 20)\n",
    "print(20 < 30 or 30 > 30)\n",
    "print(20 > 10 or 20 > 10)\n",
    "print(a != b)\n",
    "print(not(a != b))"
   ]
  },
  {
   "cell_type": "markdown",
   "id": "d51b5063",
   "metadata": {},
   "source": [
    "### 부분 문자열 변환 replace"
   ]
  },
  {
   "cell_type": "code",
   "execution_count": 70,
   "id": "a5ddc033",
   "metadata": {},
   "outputs": [
    {
     "name": "stdout",
     "output_type": "stream",
     "text": [
      "010.1234.5678\n"
     ]
    }
   ],
   "source": [
    "phone = '010-1234-5678'\n",
    "new_phone = phone.replace(\"-\", \".\")\n",
    "\n",
    "print(new_phone)"
   ]
  },
  {
   "cell_type": "markdown",
   "id": "ce7a9151",
   "metadata": {},
   "source": [
    "### 리스트"
   ]
  },
  {
   "cell_type": "code",
   "execution_count": 81,
   "id": "fb97f768",
   "metadata": {},
   "outputs": [
    {
     "name": "stdout",
     "output_type": "stream",
     "text": [
      "['메이킷', '우진', '시은']\n",
      "메이킷\n",
      "우진\n",
      "시은\n"
     ]
    }
   ],
   "source": [
    "a = ['메이킷','우진','시은']\n",
    "\n",
    "print(a)\n",
    "print(a[0])\n",
    "print(a[1])\n",
    "print(a[2])"
   ]
  },
  {
   "cell_type": "code",
   "execution_count": 62,
   "id": "c269ca11",
   "metadata": {},
   "outputs": [
    {
     "name": "stdout",
     "output_type": "stream",
     "text": [
      "S\n",
      "W\n",
      "!\n"
     ]
    }
   ],
   "source": [
    "makit='Sieun Woojin!'\n",
    "\n",
    "print(makit[0])\n",
    "print(makit[6])\n",
    "print(makit[-1])"
   ]
  },
  {
   "cell_type": "code",
   "execution_count": 65,
   "id": "12821ecd",
   "metadata": {},
   "outputs": [
    {
     "name": "stdout",
     "output_type": "stream",
     "text": [
      "eun Woo\n",
      "Sieun\n",
      "Woojin!\n"
     ]
    }
   ],
   "source": [
    "makit = 'Sieun Woojin!'\n",
    "\n",
    "print(makit[2:9])\n",
    "print(makit[:5])\n",
    "print(makit[6:])"
   ]
  },
  {
   "cell_type": "code",
   "execution_count": 67,
   "id": "b6a72a29",
   "metadata": {},
   "outputs": [
    {
     "name": "stdout",
     "output_type": "stream",
     "text": [
      "동동동\n"
     ]
    }
   ],
   "source": [
    "makit = '동서남북동서남북동서남북'\n",
    "print(makit[0::4])"
   ]
  },
  {
   "cell_type": "code",
   "execution_count": 69,
   "id": "bdd89311",
   "metadata": {},
   "outputs": [
    {
     "name": "stdout",
     "output_type": "stream",
     "text": [
      "북남서동\n"
     ]
    }
   ],
   "source": [
    "makit = '동서남북'\n",
    "print(makit[::-1])"
   ]
  },
  {
   "cell_type": "code",
   "execution_count": 83,
   "id": "3eabe7ab",
   "metadata": {},
   "outputs": [
    {
     "name": "stdout",
     "output_type": "stream",
     "text": [
      "['메이킷', '우진']\n",
      "['우진', '제임스', '시은']\n",
      "['제임스', '시은']\n",
      "['메이킷', '우진', '제임스', '시은']\n"
     ]
    }
   ],
   "source": [
    "a = ['메이킷','우진','제임스','시은']\n",
    "\n",
    "print(a[:2])\n",
    "print(a[1:])\n",
    "print(a[2:])\n",
    "print(a)"
   ]
  },
  {
   "cell_type": "code",
   "execution_count": 92,
   "id": "bab1ffaa",
   "metadata": {},
   "outputs": [
    {
     "name": "stdout",
     "output_type": "stream",
     "text": [
      "['우진', '시은', '메이킷']\n",
      "['우진', '시은']\n"
     ]
    }
   ],
   "source": [
    "a = ['우진','시은']\n",
    "\n",
    "a.append(\"메이킷\")\n",
    "print(a)\n",
    "\n",
    "del a[2]\n",
    "print(a)"
   ]
  },
  {
   "cell_type": "code",
   "execution_count": 94,
   "id": "1a5f9087",
   "metadata": {},
   "outputs": [
    {
     "name": "stdout",
     "output_type": "stream",
     "text": [
      "['우진', '하워드', '시은', '메이킷']\n"
     ]
    }
   ],
   "source": [
    "['우진', '하워드', '시은', '메이킷']\n",
    "\n",
    "a = ['우진','시은','메이킷']\n",
    "a.insert(1, \"하워드\")\n",
    "print(a)"
   ]
  },
  {
   "cell_type": "code",
   "execution_count": 97,
   "id": "904c0ef8",
   "metadata": {},
   "outputs": [
    {
     "name": "stdout",
     "output_type": "stream",
     "text": [
      "['우진', '시은', '메이킷', '소피아', '하워드']\n",
      "['메이킷', '소피아', '하워드']\n"
     ]
    }
   ],
   "source": [
    "a = ['우진', '시은']\n",
    "b = ['메이킷', '소피아', '하워드']\n",
    "\n",
    "a.extend(b)\n",
    "\n",
    "print(a)\n",
    "print(b)"
   ]
  },
  {
   "cell_type": "code",
   "execution_count": 100,
   "id": "4b8427ec",
   "metadata": {},
   "outputs": [
    {
     "name": "stdout",
     "output_type": "stream",
     "text": [
      "['우진', '시은']\n",
      "['우진', '시은', '메이킷', '소피아', '하워드']\n"
     ]
    }
   ],
   "source": [
    "a = ['우진','시은']\n",
    "b = ['메이킷','소피아','하워드']\n",
    "c = []\n",
    "\n",
    "c.extend(a)\n",
    "print(c)\n",
    "\n",
    "c.extend(b)\n",
    "print(c)"
   ]
  },
  {
   "cell_type": "code",
   "execution_count": 106,
   "id": "d203e0dc",
   "metadata": {},
   "outputs": [
    {
     "name": "stdout",
     "output_type": "stream",
     "text": [
      "리스트 a의 개수 즉 길이는 6\n",
      "리스트 a의 숫자들의 평균은 5.5\n"
     ]
    }
   ],
   "source": [
    "a = [3, 7, 4, 5, 6, 8]\n",
    "\n",
    "print(\"리스트 a의 개수 즉 길이는\", len(a))\n",
    "print(\"리스트 a의 숫자들의 평균은\", sum(a)/len(a))"
   ]
  },
  {
   "cell_type": "code",
   "execution_count": 107,
   "id": "58f49cd9",
   "metadata": {},
   "outputs": [
    {
     "name": "stdout",
     "output_type": "stream",
     "text": [
      "b : [1, 2, 3, 4, 5]\n",
      "c : ['a', 'b', 'c', 'd', 'e']\n",
      "d : [5, 'a']\n",
      "e : [1, 3, 5, 'b', 'd']\n",
      "f : [2, 4, 'a', 'c', 'e']\n"
     ]
    }
   ],
   "source": [
    "a = [1,2, 3, 4, 5, 'a', 'b', 'c', 'd', 'e']\n",
    "\n",
    "b = a[:5]\n",
    "print('b :',b)\n",
    "\n",
    "c = a[5:]\n",
    "print('c :',c)\n",
    "\n",
    "d = a[4:6]\n",
    "print('d :',d)\n",
    "\n",
    "e = a[::2]\n",
    "print('e :',e)\n",
    "\n",
    "f = a[1::2]\n",
    "print('f :',f)"
   ]
  },
  {
   "cell_type": "code",
   "execution_count": 109,
   "id": "95a50b75",
   "metadata": {},
   "outputs": [
    {
     "name": "stdout",
     "output_type": "stream",
     "text": [
      "['우진', '시은', '윤진', '형우']\n"
     ]
    }
   ],
   "source": [
    "a = ['형우', '윤진', '시은', '우진']\n",
    "b = a[::-1]\n",
    "\n",
    "print(b)"
   ]
  },
  {
   "cell_type": "code",
   "execution_count": 111,
   "id": "97dfde71",
   "metadata": {},
   "outputs": [
    {
     "name": "stdout",
     "output_type": "stream",
     "text": [
      "메이킷 학생의 시험 점수는 95\n",
      "우진 학생의 시험 점수는 100\n",
      "시은 학생의 시험 점수는 98\n"
     ]
    }
   ],
   "source": [
    "a = [['메이킷', 95], ['우진', 100], ['시은', 98]]\n",
    "\n",
    "print(a[0][0], '학생의 시험 점수는', a[0][1])\n",
    "print(a[1][0],'학생의 시험 점수는',a[1][1])\n",
    "print(a[2][0],'학생의 시험 점수는',a[2][1])"
   ]
  },
  {
   "cell_type": "code",
   "execution_count": 113,
   "id": "81399f00",
   "metadata": {},
   "outputs": [
    {
     "name": "stdout",
     "output_type": "stream",
     "text": [
      "시은 우진 지훈 지연\n"
     ]
    }
   ],
   "source": [
    "a = ['시은', '우진', '지훈', '지연']\n",
    "b = \" \".join(a)\n",
    "\n",
    "print(b)"
   ]
  },
  {
   "cell_type": "code",
   "execution_count": 116,
   "id": "62a0f962",
   "metadata": {},
   "outputs": [
    {
     "name": "stdout",
     "output_type": "stream",
     "text": [
      "['시은', '우진', '지훈', '지연']\n"
     ]
    }
   ],
   "source": [
    "a = '시은 우진 지훈 지연'\n",
    "b = a.split(\" \")\n",
    "\n",
    "print(b)"
   ]
  },
  {
   "cell_type": "code",
   "execution_count": 57,
   "id": "87da9b43",
   "metadata": {},
   "outputs": [
    {
     "name": "stdout",
     "output_type": "stream",
     "text": [
      "[5, 3, 1, -1, -3, -5, -7, -9]\n"
     ]
    }
   ],
   "source": [
    "a = list(range(5,-10,-2))\n",
    "print(a)"
   ]
  },
  {
   "cell_type": "code",
   "execution_count": 67,
   "id": "5f87d0c2",
   "metadata": {},
   "outputs": [
    {
     "name": "stdout",
     "output_type": "stream",
     "text": [
      "5\n",
      "[-10, -5, 0, 5]\n"
     ]
    }
   ],
   "source": [
    "num = int(input())\n",
    "\n",
    "a = list(range(-10,10,num))\n",
    "print(a)"
   ]
  },
  {
   "cell_type": "code",
   "execution_count": 70,
   "id": "367386ad",
   "metadata": {},
   "outputs": [
    {
     "name": "stdout",
     "output_type": "stream",
     "text": [
      "[2016, 2017, 2018]\n",
      "[9930616, 9857426, 9838892]\n"
     ]
    }
   ],
   "source": [
    "year = [2011, 2012, 2013, 2014, 2015, 2016, 2017, 2018]\n",
    "population = [10249679, 10195318, 10143645, 10103233, 10022181, 9930616, 9857426, 9838892]\n",
    "\n",
    "print(year[-3::])\n",
    "print(population[-3::])"
   ]
  },
  {
   "cell_type": "code",
   "execution_count": 76,
   "id": "ec4746c7",
   "metadata": {},
   "outputs": [
    {
     "name": "stdout",
     "output_type": "stream",
     "text": [
      "(75, -10, 32, -15, 76, 2)\n"
     ]
    }
   ],
   "source": [
    "n = -32, 75, 97, -10, 9, 32, 4, -15, 0, 76, 14, 2\n",
    "\n",
    "print(n[1::2])"
   ]
  },
  {
   "cell_type": "code",
   "execution_count": 86,
   "id": "9bbbe45d",
   "metadata": {},
   "outputs": [
    {
     "name": "stdout",
     "output_type": "stream",
     "text": [
      "1 2 3 4 5 6 7 8 9\n",
      "('1', '2', '3', '4')\n"
     ]
    }
   ],
   "source": [
    "x = input().split()\n",
    "del x[-5:]\n",
    "print(tuple(x))"
   ]
  },
  {
   "cell_type": "code",
   "execution_count": 89,
   "id": "a6c1f6d5",
   "metadata": {},
   "outputs": [
    {
     "name": "stdout",
     "output_type": "stream",
     "text": [
      "python\n",
      "python\n",
      "yhnpto\n"
     ]
    }
   ],
   "source": [
    "x = input()\n",
    "y = input()\n",
    "\n",
    "z = x[1::2] + y[::2]\n",
    "print(z)"
   ]
  },
  {
   "cell_type": "markdown",
   "id": "75c83ca4",
   "metadata": {},
   "source": [
    "### 딕셔너리"
   ]
  },
  {
   "cell_type": "code",
   "execution_count": 4,
   "id": "cc5ea93e",
   "metadata": {},
   "outputs": [
    {
     "name": "stdout",
     "output_type": "stream",
     "text": [
      "575.6\n",
      "340\n"
     ]
    }
   ],
   "source": [
    "camille = {\n",
    "    'health': 575.6,\n",
    "    'health_regen': 1.7,\n",
    "    'mana': 338.8,\n",
    "    'mana_regen': 1.63,\n",
    "    'melee': 125,\n",
    "    'attack_damage': 60,\n",
    "    'attack_speed': 0.625,\n",
    "    'armor': 26,\n",
    "    'magic_resistance': 32.1,\n",
    "    'movement_speed': 340\n",
    "}\n",
    "\n",
    "print(camille[\"health\"])\n",
    "print(camille[\"movement_speed\"])"
   ]
  },
  {
   "cell_type": "code",
   "execution_count": 8,
   "id": "e452829f",
   "metadata": {},
   "outputs": [
    {
     "name": "stdout",
     "output_type": "stream",
     "text": [
      "health mana melee attack_speed magic_resistance\n",
      "573.6 308.8 600 0.625 35.7\n",
      "{'health': 573.6, 'mana': 308.8, 'melee': 600.0, 'attack_speed': 0.625, 'magic_resistance': 35.7}\n"
     ]
    }
   ],
   "source": [
    "a = input().split()\n",
    "b = map(float, input().split())\n",
    "\n",
    "c = dict(zip(a, b))\n",
    "print(c)"
   ]
  },
  {
   "cell_type": "code",
   "execution_count": null,
   "id": "f63270b1",
   "metadata": {},
   "outputs": [],
   "source": [
    "health health_regen mana mana_regen\n",
    "575.6 1.7 338.8 1.63"
   ]
  },
  {
   "cell_type": "markdown",
   "id": "f5192871",
   "metadata": {},
   "source": [
    "### 문제"
   ]
  },
  {
   "cell_type": "code",
   "execution_count": 76,
   "id": "becc3069",
   "metadata": {},
   "outputs": [
    {
     "name": "stdout",
     "output_type": "stream",
     "text": [
      "초를 입력하세요:1234\n",
      "1234 초(sec)는 20 분(min) 34 초(sec)입니다.\n"
     ]
    }
   ],
   "source": [
    "n = int(input(\"초를 입력하세요:\"))\n",
    "print(n, \"초(sec)는\", n//60, \"분(min)\", n%60, \"초(sec)입니다.\")"
   ]
  },
  {
   "cell_type": "code",
   "execution_count": 78,
   "id": "ebd45a33",
   "metadata": {
    "scrolled": true
   },
   "outputs": [
    {
     "name": "stdout",
     "output_type": "stream",
     "text": [
      "분을 입력하세요:7512\n",
      "7512 분은 5 일 5 시간 12 분입니다.\n"
     ]
    }
   ],
   "source": [
    "n = int(input(\"분을 입력하세요:\"))\n",
    "print(n, \"분은\", n//(24*60), \"일\",  (n%(24*60))//60,\"시간\", (n%(24*60))%60, \"분입니다.\")"
   ]
  },
  {
   "cell_type": "code",
   "execution_count": 131,
   "id": "11930e32",
   "metadata": {},
   "outputs": [
    {
     "name": "stdout",
     "output_type": "stream",
     "text": [
      "1 2 3\n",
      "1\n",
      "2\n",
      "3\n"
     ]
    },
    {
     "data": {
      "text/plain": [
       "1"
      ]
     },
     "execution_count": 131,
     "metadata": {},
     "output_type": "execute_result"
    }
   ],
   "source": [
    "x, y, z = map(int, input().split())\n",
    "\n",
    "print(x)\n",
    "print(y)\n",
    "print(z)\n",
    "\n",
    "print(min(x,y,z))"
   ]
  },
  {
   "cell_type": "markdown",
   "id": "29f82948",
   "metadata": {},
   "source": [
    "### if/elif/else"
   ]
  },
  {
   "cell_type": "code",
   "execution_count": 9,
   "id": "2569d3ab",
   "metadata": {},
   "outputs": [
    {
     "name": "stdout",
     "output_type": "stream",
     "text": [
      "ok\n"
     ]
    }
   ],
   "source": [
    "x = 5\n",
    " \n",
    "if x != 10:\n",
    "    print('ok')"
   ]
  },
  {
   "cell_type": "code",
   "execution_count": 13,
   "id": "f67e3ac4",
   "metadata": {},
   "outputs": [
    {
     "name": "stdout",
     "output_type": "stream",
     "text": [
      "35000\n",
      "Cash5000\n",
      "30000\n"
     ]
    }
   ],
   "source": [
    "a = int(input())\n",
    "b = input()\n",
    "\n",
    "if b == \"Cash3000\":\n",
    "    print(a-3000)\n",
    "    \n",
    "if b == \"Cash5000\":\n",
    "    print(a-5000)"
   ]
  },
  {
   "cell_type": "code",
   "execution_count": 14,
   "id": "8b5a8f7d",
   "metadata": {},
   "outputs": [
    {
     "name": "stdout",
     "output_type": "stream",
     "text": [
      "불합격\n"
     ]
    }
   ],
   "source": [
    "written_test = 75\n",
    "coding_test = True\n",
    " \n",
    "if written_test >= 80 and coding_test == True:\n",
    "    print('합격')\n",
    "else:\n",
    "    print('불합격')"
   ]
  },
  {
   "cell_type": "code",
   "execution_count": 21,
   "id": "5dd9c191",
   "metadata": {},
   "outputs": [
    {
     "name": "stdout",
     "output_type": "stream",
     "text": [
      "99 85 101 90\n",
      "잘못된 점수\n"
     ]
    }
   ],
   "source": [
    "korean, english, mathematics, science = map(int, input().split())\n",
    "\n",
    "if 0 <= korean <= 100 and 0 <= english <= 100 and 0 <= mathematics <= 100 and 0 <= science <= 100:\n",
    "    if (korean + english + mathematics + science) / 4 >= 80:\n",
    "        print(\"합격\")\n",
    "    else:\n",
    "        print(\"불합격\")\n",
    "else:\n",
    "    print(\"잘못된 점수\")"
   ]
  },
  {
   "cell_type": "code",
   "execution_count": 22,
   "id": "dadd4fcf",
   "metadata": {},
   "outputs": [
    {
     "name": "stdout",
     "output_type": "stream",
     "text": [
      "5\n",
      "아무것도 해당하지 않음\n"
     ]
    }
   ],
   "source": [
    "x = int(input())\n",
    "\n",
    "if  11 <= x <= 20:\n",
    "    print('11~20')\n",
    "elif 21 <= x <= 30:\n",
    "    print('21~30')\n",
    "else:\n",
    "    print('아무것도 해당하지 않음')"
   ]
  },
  {
   "cell_type": "code",
   "execution_count": 37,
   "id": "d02756fe",
   "metadata": {},
   "outputs": [
    {
     "name": "stdout",
     "output_type": "stream",
     "text": [
      "12\n",
      "8350\n"
     ]
    }
   ],
   "source": [
    "age = int(input())\n",
    "balance = 9000\n",
    "\n",
    "if 7 <= age <= 12:\n",
    "    balance -= 650\n",
    "elif 13 <= age <= 18:\n",
    "    balance -= 1050\n",
    "elif 19 <= age:\n",
    "    balance -= 1250\n",
    "\n",
    "print(balance)"
   ]
  },
  {
   "cell_type": "code",
   "execution_count": 35,
   "id": "5c4c42a5",
   "metadata": {},
   "outputs": [
    {
     "name": "stdout",
     "output_type": "stream",
     "text": [
      "불합격\n"
     ]
    }
   ],
   "source": [
    "korean = 92\n",
    "english = 47\n",
    "mathematics = 86\n",
    "science = 81\n",
    "\n",
    "if korean > 50 and english > 50 and mathematics > 50 and science > 50:\n",
    "    print(\"합격\")\n",
    "else:\n",
    "    print(\"불합격\")"
   ]
  },
  {
   "cell_type": "code",
   "execution_count": 140,
   "id": "c2e9347d",
   "metadata": {},
   "outputs": [
    {
     "name": "stdout",
     "output_type": "stream",
     "text": [
      "첫 번째 정수를 입력하세요:10\n",
      "두 번째 정수를 입력하세요:30\n",
      "woojin\n"
     ]
    }
   ],
   "source": [
    "x = int(input(\"첫 번째 정수를 입력하세요:\"))\n",
    "y = int(input(\"두 번째 정수를 입력하세요:\"))\n",
    "\n",
    "if x>y:\n",
    "    print(\"makit\")\n",
    "else:\n",
    "    print(\"woojin\")"
   ]
  },
  {
   "cell_type": "code",
   "execution_count": 147,
   "id": "d1ce024c",
   "metadata": {},
   "outputs": [
    {
     "name": "stdout",
     "output_type": "stream",
     "text": [
      "첫 번째 정수를 입력하세요:2\n",
      "두 번째 정수를 입력하세요:4\n",
      "세 번째 정수를 입력하세요:6\n"
     ]
    }
   ],
   "source": [
    "a = int(input(\"첫 번째 정수를 입력하세요:\"))\n",
    "b = int(input(\"두 번째 정수를 입력하세요:\"))\n",
    "c = int(input(\"세 번째 정수를 입력하세요:\"))\n",
    "\n",
    "if a%2 == 1:\n",
    "    print(a)\n",
    "    \n",
    "if b%2 == 1:\n",
    "    print(b)\n",
    "    \n",
    "if c%2 == 1:\n",
    "    print(c)"
   ]
  },
  {
   "cell_type": "code",
   "execution_count": 150,
   "id": "bac3cd9b",
   "metadata": {},
   "outputs": [
    {
     "name": "stdout",
     "output_type": "stream",
     "text": [
      "첫 번째 정수를 입력하세요:2\n",
      "두 번째 정수를 입력하세요:5\n",
      "세 번째 정수를 입력하세요:8\n",
      "2 짝수\n",
      "5 홀수\n",
      "8 짝수\n"
     ]
    }
   ],
   "source": [
    "a = int(input(\"첫 번째 정수를 입력하세요:\"))\n",
    "b = int(input(\"두 번째 정수를 입력하세요:\"))\n",
    "c = int(input(\"세 번째 정수를 입력하세요:\"))\n",
    "\n",
    "\n",
    "if a%2 == 1:\n",
    "    print(a, \"홀수\")\n",
    "else:\n",
    "    print(a, \"짝수\")\n",
    "\n",
    "if b%2 == 1:\n",
    "    print(b, \"홀수\")\n",
    "else:\n",
    "    print(b, \"짝수\")\n",
    "    \n",
    "if c%2 == 1:\n",
    "    print(c, \"홀수\")\n",
    "else:\n",
    "    print(c, \"짝수\")"
   ]
  },
  {
   "cell_type": "code",
   "execution_count": 153,
   "id": "54867c3c",
   "metadata": {},
   "outputs": [
    {
     "name": "stdout",
     "output_type": "stream",
     "text": [
      "5\n",
      "양수이고 홀수\n"
     ]
    }
   ],
   "source": [
    "a = int(input())\n",
    "\n",
    "if a>0 and a%2 == 1:\n",
    "    print(\"양수이고 홀수\")\n",
    "elif a>0 and a%2 == 0:\n",
    "    print(\"양수이고 짝수\")    \n",
    "elif a<0 and a%2 == 0:\n",
    "    print(\"음수이고 짝수\")\n",
    "else:\n",
    "    print(\"음수이고 홀수\")"
   ]
  },
  {
   "cell_type": "code",
   "execution_count": 163,
   "id": "9073fa54",
   "metadata": {},
   "outputs": [
    {
     "name": "stdout",
     "output_type": "stream",
     "text": [
      "코딩 점수를 입력하세요:80\n",
      "B학점\n"
     ]
    }
   ],
   "source": [
    "a = int(input(\"코딩 점수를 입력하세요:\"))\n",
    "\n",
    "if 0>a or a>101:\n",
    "    pass\n",
    "elif a>=90:\n",
    "    print(\"A학점\")\n",
    "elif a>=80:\n",
    "    print(\"B학점\")\n",
    "elif a>=70:\n",
    "    print(\"C학점\")\n",
    "elif a>=60:\n",
    "    print(\"D학점\")\n",
    "else:\n",
    "    print(\"F학점\")"
   ]
  },
  {
   "cell_type": "code",
   "execution_count": 166,
   "id": "049ea37d",
   "metadata": {},
   "outputs": [
    {
     "name": "stdout",
     "output_type": "stream",
     "text": [
      "s\n",
      "sieun\n"
     ]
    }
   ],
   "source": [
    "a = input()\n",
    "\n",
    "if a == \"m\" or a == \"M\":\n",
    "    print(\"makit\")\n",
    "elif a == \"j\" or a == \"J\":\n",
    "    print(\"james\")\n",
    "elif a == \"w\" or a == \"W\":\n",
    "    print(\"woojin\")   \n",
    "elif a == \"s\" or a == \"S\":\n",
    "    print(\"sieun\")\n",
    "else:\n",
    "    print(\"howard\")   "
   ]
  },
  {
   "cell_type": "code",
   "execution_count": 169,
   "id": "50b44c59",
   "metadata": {},
   "outputs": [
    {
     "name": "stdout",
     "output_type": "stream",
     "text": [
      "몇 월 달인가요?11\n",
      "가을\n"
     ]
    }
   ],
   "source": [
    "num = int(input(\"몇 월 달인가요?\"))\n",
    "\n",
    "if num == 12 or num == 1 or num == 2:\n",
    "    print(\"겨울\")\n",
    "elif num == 3 or num == 4 or num == 5:\n",
    "    print(\"봄\")  \n",
    "elif num == 6 or num == 7 or num == 8:\n",
    "    print(\"여름\")\n",
    "elif num == 9 or num == 10 or num == 11:\n",
    "    print(\"가을\")"
   ]
  },
  {
   "cell_type": "code",
   "execution_count": 170,
   "id": "bf4c6324",
   "metadata": {},
   "outputs": [
    {
     "name": "stdout",
     "output_type": "stream",
     "text": [
      "몇 월 달인가요?5\n",
      "봄\n"
     ]
    }
   ],
   "source": [
    "num = int(input(\"몇 월 달인가요?\"))\n",
    "\n",
    "if num in [12, 1, 2]:\n",
    "    print(\"겨울\")\n",
    "elif num in [3, 4, 5]:\n",
    "    print(\"봄\")  \n",
    "elif num in [6, 7, 8]:\n",
    "    print(\"여름\")\n",
    "elif num in [9, 10, 11]:\n",
    "    print(\"가을\")"
   ]
  },
  {
   "cell_type": "code",
   "execution_count": 174,
   "id": "fd238821",
   "metadata": {},
   "outputs": [
    {
     "name": "stdout",
     "output_type": "stream",
     "text": [
      "몇 월인가요?4\n",
      "4 월은 30일까지 있습니다\n"
     ]
    }
   ],
   "source": [
    "a = int(input(\"몇 월인가요?\"))\n",
    "\n",
    "if a in [4, 6, 9, 11]:\n",
    "    print(a, \"월은 30일까지 있습니다\")\n",
    "elif a in [1, 3, 5, 7, 8, 10, 12]:\n",
    "    print(a, \"월은 31일까지 있습니다\") \n",
    "elif a == 2:\n",
    "    print(a, \"월은 28일까지 있습니다\")    "
   ]
  },
  {
   "cell_type": "code",
   "execution_count": 198,
   "id": "86714f5b",
   "metadata": {},
   "outputs": [
    {
     "name": "stdout",
     "output_type": "stream",
     "text": [
      "이름을 입력하세요:zzic\n",
      "키를 입력하세요:150\n",
      "탈 수 있어요\n"
     ]
    }
   ],
   "source": [
    "name = input(\"이름을 입력하세요:\")\n",
    "height = float(input(\"키를 입력하세요:\"))\n",
    "\n",
    "if name[0] == \"m\" or 150 <= height < 170:\n",
    "    print(\"탈 수 있어요\")\n",
    "else:\n",
    "    print(\"탈 수 없어요\")"
   ]
  },
  {
   "cell_type": "code",
   "execution_count": 201,
   "id": "bf52d60f",
   "metadata": {},
   "outputs": [
    {
     "name": "stdout",
     "output_type": "stream",
     "text": [
      "키를 입력하세요:50\n",
      "탈 수 없어요\n"
     ]
    }
   ],
   "source": [
    "height = float(input(\"키를 입력하세요:\"))\n",
    "\n",
    "if 150 <= height < 170 or 175 <= height <= 180:\n",
    "    print(\"탈 수 있어요\")\n",
    "else:\n",
    "    print(\"탈 수 없어요\")"
   ]
  },
  {
   "cell_type": "code",
   "execution_count": 204,
   "id": "2d67c366",
   "metadata": {},
   "outputs": [
    {
     "name": "stdout",
     "output_type": "stream",
     "text": [
      "키를 입력하세요:150\n",
      "성별을 입력하세요:남자\n",
      "탈 수 없어요\n"
     ]
    }
   ],
   "source": [
    "height = float(input(\"키를 입력하세요:\"))\n",
    "sex = input(\"성별을 입력하세요:\")\n",
    "\n",
    "if sex == \"여자\" and (150 <= height < 170 or height%5 == 0):\n",
    "    print(\"탈 수 있어요\")\n",
    "else:\n",
    "    print(\"탈 수 없어요\")"
   ]
  },
  {
   "cell_type": "code",
   "execution_count": 223,
   "id": "1be8e9cc",
   "metadata": {},
   "outputs": [
    {
     "name": "stdout",
     "output_type": "stream",
     "text": [
      "10\n",
      "터널 통과 불가능\n"
     ]
    }
   ],
   "source": [
    "height = input().split()\n",
    "height = list(map(int, height))\n",
    "\n",
    "if height[0] >= 150 and height[1] >= 150 and height[2] >= 150:\n",
    "    print(\"터널 통과 가능\")\n",
    "else:\n",
    "    print(\"터널 통과 불가능\")"
   ]
  },
  {
   "cell_type": "code",
   "execution_count": 228,
   "id": "27c7c0f0",
   "metadata": {},
   "outputs": [
    {
     "name": "stdout",
     "output_type": "stream",
     "text": [
      "연도를 입력하세요:1900\n",
      "1900 년은 윤년이 아닙니다\n"
     ]
    }
   ],
   "source": [
    "year = int(input(\"연도를 입력하세요:\"))\n",
    "\n",
    "if year%4 == 0:\n",
    "    if year%100 == 0 and year%400 != 0:\n",
    "        print(year, \"년은 윤년이 아닙니다\")\n",
    "    else:\n",
    "        print(year, \"년은 윤년입니다\")\n",
    "else:\n",
    "    print(year, \"년은 윤년이 아닙니다\")"
   ]
  },
  {
   "cell_type": "code",
   "execution_count": 243,
   "id": "83b8e310",
   "metadata": {},
   "outputs": [
    {
     "name": "stdout",
     "output_type": "stream",
     "text": [
      "주민등록번호 입력:941030-2140318\n",
      "여자 1994 년 출생\n"
     ]
    }
   ],
   "source": [
    "a = input(\"주민등록번호 입력:\")\n",
    "sex = int(a[7])\n",
    "age = int(a[0:2])\n",
    "\n",
    "if sex == 1 or sex == 2:\n",
    "    age = 1900 + age\n",
    "elif sex == 3 or sex == 4:\n",
    "    age = 2000 + age\n",
    "\n",
    "if sex == 1 or sex == 3:\n",
    "    print(\"남자\", age, \"년 출생\")\n",
    "elif sex == 2 or sex == 4:\n",
    "    print(\"여자\", age, \"년 출생\")"
   ]
  },
  {
   "cell_type": "code",
   "execution_count": 246,
   "id": "48c69a36",
   "metadata": {},
   "outputs": [
    {
     "name": "stdout",
     "output_type": "stream",
     "text": [
      "0 0  0  0\n",
      "모\n"
     ]
    }
   ],
   "source": [
    "a = input().split()\n",
    "a = list(map(int, a))\n",
    "a = a.count(1)\n",
    "\n",
    "if a == 0:\n",
    "    print(\"모\")\n",
    "elif a == 1:\n",
    "    print(\"도\")\n",
    "elif a == 2:\n",
    "    print(\"개\")\n",
    "elif a == 3:\n",
    "    print(\"걸\")\n",
    "elif a == 4:\n",
    "    print(\"윷\")"
   ]
  },
  {
   "cell_type": "code",
   "execution_count": 254,
   "id": "21fe4a34",
   "metadata": {},
   "outputs": [
    {
     "name": "stdout",
     "output_type": "stream",
     "text": [
      "185 80\n",
      "BMI 지수는 23.37472607742878 이고 과체중입니다\n"
     ]
    }
   ],
   "source": [
    "a = input().split()\n",
    "height = float(a[0])/100\n",
    "weight = float(a[1])\n",
    "\n",
    "BMI = weight / (height * height)\n",
    "\n",
    "if BMI >= 30:\n",
    "    print(\"BMI 지수는\", BMI, \"이고 고도 비만입니다\")\n",
    "elif BMI >= 25:\n",
    "    print(\"BMI 지수는\", BMI, \"이고 경도 비만입니다\")\n",
    "elif BMI >= 23:\n",
    "    print(\"BMI 지수는\", BMI, \"이고 과체중입니다\")\n",
    "elif BMI >= 18.5:\n",
    "    print(\"BMI 지수는\", BMI, \"이고 정상 체중입니다\")\n",
    "elif BMI < 18.5:\n",
    "    print(\"BMI 지수는\", BMI, \"이고 저체중입니다\")"
   ]
  },
  {
   "cell_type": "code",
   "execution_count": 267,
   "id": "d20d3744",
   "metadata": {},
   "outputs": [
    {
     "name": "stdout",
     "output_type": "stream",
     "text": [
      "4 5 8\n",
      "삼각형 가능\n"
     ]
    }
   ],
   "source": [
    "width = input().split()\n",
    "width = list(map(int, width))\n",
    "\n",
    "c = max(width)\n",
    "del width[width.index(c)]\n",
    "\n",
    "if sum(width) > c:\n",
    "    print(\"삼각형 가능\")\n",
    "else:\n",
    "    print(\"삼각형 불가\")"
   ]
  },
  {
   "cell_type": "markdown",
   "id": "46ab385a",
   "metadata": {},
   "source": [
    "### for/while"
   ]
  },
  {
   "cell_type": "code",
   "execution_count": 2,
   "id": "d2a794fa",
   "metadata": {},
   "outputs": [
    {
     "name": "stdout",
     "output_type": "stream",
     "text": [
      "1\n",
      "2\n",
      "3\n",
      "4\n",
      "5\n",
      "6\n",
      "7\n",
      "8\n",
      "9\n",
      "10\n",
      "발사!\n"
     ]
    }
   ],
   "source": [
    "for i in range(1, 11):\n",
    "    print(i)\n",
    "print(\"발사!\")"
   ]
  },
  {
   "cell_type": "code",
   "execution_count": 3,
   "id": "02dffce2",
   "metadata": {},
   "outputs": [
    {
     "name": "stdout",
     "output_type": "stream",
     "text": [
      "490 -170 250 1020 80 620 210 "
     ]
    }
   ],
   "source": [
    "x = [49, -17, 25, 102, 8, 62, 21]\n",
    "\n",
    "for i in x:\n",
    "    print(i * 10, end = \" \")"
   ]
  },
  {
   "cell_type": "code",
   "execution_count": 6,
   "id": "754454b5",
   "metadata": {},
   "outputs": [
    {
     "name": "stdout",
     "output_type": "stream",
     "text": [
      "2\n",
      "2 * 1 = 2\n",
      "2 * 2 = 4\n",
      "2 * 3 = 6\n",
      "2 * 4 = 8\n",
      "2 * 5 = 10\n",
      "2 * 6 = 12\n",
      "2 * 7 = 14\n",
      "2 * 8 = 16\n",
      "2 * 9 = 18\n"
     ]
    }
   ],
   "source": [
    "num = int(input())\n",
    "\n",
    "for i in range(1, 10):\n",
    "    print(num, \"*\", i, \"=\", num*i)    "
   ]
  },
  {
   "cell_type": "code",
   "execution_count": 7,
   "id": "c8359862",
   "metadata": {},
   "outputs": [
    {
     "name": "stdout",
     "output_type": "stream",
     "text": [
      "2 5\n",
      "4 4\n",
      "8 3\n",
      "16 2\n",
      "32 1\n"
     ]
    }
   ],
   "source": [
    "i = 2\n",
    "j = 5\n",
    "\n",
    "while i <= 32 or j >= 1:       \n",
    "    print(i, j)\n",
    "    j -= 1     \n",
    "    i *= 2   "
   ]
  },
  {
   "cell_type": "code",
   "execution_count": 9,
   "id": "f6444b4a",
   "metadata": {},
   "outputs": [
    {
     "name": "stdout",
     "output_type": "stream",
     "text": [
      "13500\n",
      "12150\n",
      "10800\n",
      "9450\n",
      "8100\n",
      "6750\n",
      "5400\n",
      "4050\n",
      "2700\n",
      "1350\n",
      "0\n"
     ]
    }
   ],
   "source": [
    "money = int(input())\n",
    "\n",
    "while money >= 1350:\n",
    "    money -= 1350\n",
    "    print(money)"
   ]
  },
  {
   "cell_type": "code",
   "execution_count": 14,
   "id": "dd3be3cf",
   "metadata": {},
   "outputs": [
    {
     "name": "stdout",
     "output_type": "stream",
     "text": [
      "3 13 23 33 43 53 63 73 "
     ]
    }
   ],
   "source": [
    "i = 0\n",
    "while True:\n",
    "    if i % 10 != 3:\n",
    "        i += 1\n",
    "    else:\n",
    "        print(i, end=' ')\n",
    "        i += 1\n",
    "    if i > 73:\n",
    "        break"
   ]
  },
  {
   "cell_type": "code",
   "execution_count": 24,
   "id": "f125924b",
   "metadata": {},
   "outputs": [
    {
     "name": "stdout",
     "output_type": "stream",
     "text": [
      "1 20\n",
      "1 2 4 5 6 7 8 9 10 11 12 14 15 16 17 18 19 20 "
     ]
    }
   ],
   "source": [
    "start, stop = map(int, input().split())\n",
    "\n",
    "i = start\n",
    "\n",
    "if 1 <= start <= 200 and 10 <= stop <= 200:\n",
    "    while True:\n",
    "        if i > stop:\n",
    "            break\n",
    "        elif i % 10 == 3:\n",
    "            i += 1\n",
    "        else:\n",
    "            print(i, end = \" \")\n",
    "            i += 1"
   ]
  },
  {
   "cell_type": "code",
   "execution_count": 21,
   "id": "ce0a4a84",
   "metadata": {},
   "outputs": [
    {
     "name": "stdout",
     "output_type": "stream",
     "text": [
      "1\n",
      "2\n",
      "3\n",
      "4\n",
      "5\n",
      "6\n",
      "7\n",
      "8\n",
      "9\n",
      "10\n",
      "발사!\n"
     ]
    }
   ],
   "source": [
    "i = 1\n",
    "\n",
    "while i < 11:\n",
    "    print(i)\n",
    "    i += 1\n",
    "print(\"발사!\")"
   ]
  },
  {
   "cell_type": "code",
   "execution_count": 22,
   "id": "fb708adc",
   "metadata": {},
   "outputs": [
    {
     "name": "stdout",
     "output_type": "stream",
     "text": [
      "카운트다운 몇 초 전인가요?10\n",
      "10\n",
      "9\n",
      "8\n",
      "7\n",
      "6\n",
      "5\n",
      "4\n",
      "3\n",
      "2\n",
      "1\n",
      "발사!\n"
     ]
    }
   ],
   "source": [
    "i = int(input(\"카운트다운 몇 초 전인가요?\"))\n",
    "\n",
    "for i in range(i, 0, -1):\n",
    "    print(i)\n",
    "print(\"발사!\")"
   ]
  },
  {
   "cell_type": "code",
   "execution_count": 37,
   "id": "1d4f7818",
   "metadata": {},
   "outputs": [
    {
     "name": "stdout",
     "output_type": "stream",
     "text": [
      "10\n",
      "1부터 10 까지 모두 더한 합은 55\n"
     ]
    }
   ],
   "source": [
    "num = int(input())\n",
    "\n",
    "if num > 0:\n",
    "    count = 0\n",
    "    for i in range (0, num+1):\n",
    "        count += i\n",
    "    print(\"1부터\", num, \"까지 모두 더한 합은\", count)"
   ]
  },
  {
   "cell_type": "code",
   "execution_count": 36,
   "id": "83710cfd",
   "metadata": {},
   "outputs": [
    {
     "name": "stdout",
     "output_type": "stream",
     "text": [
      "10\n",
      "1부터 10 까지 모두 더한 합은 55\n"
     ]
    }
   ],
   "source": [
    "num = int(input())\n",
    "if num > 0:\n",
    "    i = 1\n",
    "    count = 0\n",
    "    while i < num+1:\n",
    "        count += i\n",
    "        i += 1\n",
    "    print(\"1부터\", num, \"까지 모두 더한 합은\", count)"
   ]
  },
  {
   "cell_type": "code",
   "execution_count": 47,
   "id": "acc77881",
   "metadata": {},
   "outputs": [
    {
     "name": "stdout",
     "output_type": "stream",
     "text": [
      "숫자를 입력하세요10\n",
      "입력된 숫자는 10\n",
      "숫자를 입력하세요7\n",
      "입력된 숫자는 7\n",
      "숫자를 입력하세요100\n",
      "입력된 숫자는 100\n",
      "숫자를 입력하세요-1\n",
      "종료합니다\n"
     ]
    }
   ],
   "source": [
    "while True:\n",
    "    num = int(input(\"숫자를 입력하세요 \"))\n",
    "    if num >= 0:\n",
    "        print(\"입력된 숫자는\", num)\n",
    "    else:\n",
    "        break\n",
    "print(\"종료합니다\")"
   ]
  },
  {
   "cell_type": "code",
   "execution_count": 48,
   "id": "555cfb56",
   "metadata": {},
   "outputs": [
    {
     "name": "stdout",
     "output_type": "stream",
     "text": [
      "1 2 3 4 5 6 7 8 9 10 "
     ]
    }
   ],
   "source": [
    "for i in range (1, 11):\n",
    "    print(i, end = \" \")"
   ]
  },
  {
   "cell_type": "code",
   "execution_count": 59,
   "id": "aab9d421",
   "metadata": {},
   "outputs": [
    {
     "name": "stdout",
     "output_type": "stream",
     "text": [
      "첫 번째 숫자를 입력하세요1\n",
      "두 번째 숫자를 입력하세요10\n",
      "1+2+3+4+5+6+7+8+9+10= 55\n"
     ]
    }
   ],
   "source": [
    "num_01 = int(input(\"첫 번째 숫자를 입력하세요\"))\n",
    "\n",
    "if num_01 > 0:\n",
    "    num_02 = int(input(\"두 번째 숫자를 입력하세요\"))\n",
    "    if num_02 > num_01:\n",
    "        count = 0\n",
    "        for i in range (num_01, num_02+1):\n",
    "            count += i\n",
    "            if i != num_02:\n",
    "                print(i, end = \"+\")\n",
    "            else:\n",
    "                 print(i, end = \"= \")\n",
    "        print(count)"
   ]
  },
  {
   "cell_type": "code",
   "execution_count": 77,
   "id": "69365b64",
   "metadata": {
    "scrolled": true
   },
   "outputs": [
    {
     "name": "stdout",
     "output_type": "stream",
     "text": [
      "첫 번째 숫자를 입력하세요1\n",
      "두 번째 숫자를 입력하세요10\n",
      "1부터 10까지 짝수들만의 합은 30\n"
     ]
    }
   ],
   "source": [
    "num_01 = int(input(\"첫 번째 숫자를 입력하세요\"))\n",
    "\n",
    "if num_01 > 0:\n",
    "    num_02 = int(input(\"두 번째 숫자를 입력하세요\"))\n",
    "    if num_02 > num_01:\n",
    "        count = 0\n",
    "        for i in range (num_01, num_02+1):\n",
    "            if i%2 == 0:\n",
    "                count += i\n",
    "        print(f\"{num_01}부터 {num_02}까지 짝수들만의 합은 {count}\")"
   ]
  },
  {
   "cell_type": "code",
   "execution_count": 89,
   "id": "d8b4adc4",
   "metadata": {
    "scrolled": true
   },
   "outputs": [
    {
     "name": "stdout",
     "output_type": "stream",
     "text": [
      "****\n",
      "****\n",
      "****\n",
      "****\n"
     ]
    }
   ],
   "source": [
    "for i in range (0, 4):\n",
    "    print(\"****\")"
   ]
  },
  {
   "cell_type": "code",
   "execution_count": 90,
   "id": "7400d9f0",
   "metadata": {},
   "outputs": [
    {
     "name": "stdout",
     "output_type": "stream",
     "text": [
      "*\n",
      "**\n",
      "***\n",
      "****\n",
      "*****\n"
     ]
    }
   ],
   "source": [
    "a = \"*\"\n",
    "\n",
    "for i in range (0, 5):\n",
    "    print(a)\n",
    "    a = a + \"*\""
   ]
  },
  {
   "cell_type": "code",
   "execution_count": 105,
   "id": "eb0aac1f",
   "metadata": {},
   "outputs": [
    {
     "name": "stdout",
     "output_type": "stream",
     "text": [
      "*\n",
      "**\n",
      "***\n",
      "****\n",
      "*****\n"
     ]
    }
   ],
   "source": [
    "for i in range(0, 5):\n",
    "    for j in range(0, i+1):\n",
    "        print(\"*\", end = \"\")\n",
    "    print()"
   ]
  },
  {
   "cell_type": "code",
   "execution_count": 106,
   "id": "202da485",
   "metadata": {},
   "outputs": [
    {
     "name": "stdout",
     "output_type": "stream",
     "text": [
      "*\n",
      " *\n",
      "  *\n",
      "   *\n",
      "    *\n"
     ]
    }
   ],
   "source": [
    "for i in range(0, 5):\n",
    "        for j in range(0, i+1):\n",
    "            if i != j:\n",
    "                print(\" \", end = \"\")\n",
    "            else:\n",
    "                print(\"*\", end = \"\")   \n",
    "        print()            "
   ]
  },
  {
   "cell_type": "code",
   "execution_count": 29,
   "id": "7448aa41",
   "metadata": {},
   "outputs": [
    {
     "name": "stdout",
     "output_type": "stream",
     "text": [
      "*****\n",
      "****\n",
      "***\n",
      "**\n",
      "*\n"
     ]
    }
   ],
   "source": [
    "for i in range(5):\n",
    "    for j in range(5):\n",
    "        if j < i:\n",
    "            print(\"\", end = \"\")\n",
    "        else:\n",
    "            print(\"*\", end = \"\")\n",
    "    print()"
   ]
  },
  {
   "cell_type": "code",
   "execution_count": 108,
   "id": "2ae16589",
   "metadata": {},
   "outputs": [
    {
     "name": "stdout",
     "output_type": "stream",
     "text": [
      "*****\n",
      "****\n",
      "***\n",
      "**\n",
      "*\n"
     ]
    }
   ],
   "source": [
    "for i in range(5, 0, -1):\n",
    "        for j in range(i, 0, -1):\n",
    "            print(\"*\", end = \"\")\n",
    "        print()"
   ]
  },
  {
   "cell_type": "code",
   "execution_count": 38,
   "id": "48f40c8d",
   "metadata": {},
   "outputs": [
    {
     "name": "stdout",
     "output_type": "stream",
     "text": [
      "4\n",
      "   *\n",
      "  ***\n",
      " *****\n",
      "*******\n"
     ]
    }
   ],
   "source": [
    "height = int(input())\n",
    "\n",
    "for i in range(height):\n",
    "    for j in reversed(range(height)):\n",
    "        if j > i:\n",
    "            print(' ', end='')\n",
    "        else:\n",
    "            print('*', end='')\n",
    "    for j in range(height):\n",
    "        if j < i:\n",
    "            print('*', end='')\n",
    "    print()"
   ]
  },
  {
   "cell_type": "code",
   "execution_count": 30,
   "id": "a3238a80",
   "metadata": {},
   "outputs": [
    {
     "name": "stdout",
     "output_type": "stream",
     "text": [
      "4\n",
      "   *   \n",
      "  ***  \n",
      " ***** \n",
      "*******\n"
     ]
    }
   ],
   "source": [
    "num = int(input())\n",
    "\n",
    "for i in range(num):\n",
    "    star = i*2+1\n",
    "    print(\" \"*(num-i-1), end = \"\")\n",
    "    print(\"*\"*star, end = \"\")\n",
    "    print(\" \"*(num-i-1), end = \"\")\n",
    "    print()"
   ]
  },
  {
   "cell_type": "code",
   "execution_count": 39,
   "id": "4a6171ad",
   "metadata": {},
   "outputs": [
    {
     "name": "stdout",
     "output_type": "stream",
     "text": [
      "1\n",
      "Fizz\n",
      "3\n",
      "Fizz\n",
      "5\n",
      "Fizz\n",
      "7\n",
      "Fizz\n",
      "9\n",
      "Fizz\n",
      "Buzz\n",
      "Fizz\n",
      "13\n",
      "Fizz\n",
      "15\n",
      "Fizz\n",
      "17\n",
      "Fizz\n",
      "19\n",
      "Fizz\n",
      "21\n",
      "FizzBuzz\n",
      "23\n",
      "Fizz\n",
      "25\n",
      "Fizz\n",
      "27\n",
      "Fizz\n",
      "29\n",
      "Fizz\n",
      "31\n",
      "Fizz\n",
      "Buzz\n",
      "Fizz\n",
      "35\n",
      "Fizz\n",
      "37\n",
      "Fizz\n",
      "39\n",
      "Fizz\n",
      "41\n",
      "Fizz\n",
      "43\n",
      "FizzBuzz\n",
      "45\n",
      "Fizz\n",
      "47\n",
      "Fizz\n",
      "49\n",
      "Fizz\n",
      "51\n",
      "Fizz\n",
      "53\n",
      "Fizz\n",
      "Buzz\n",
      "Fizz\n",
      "57\n",
      "Fizz\n",
      "59\n",
      "Fizz\n",
      "61\n",
      "Fizz\n",
      "63\n",
      "Fizz\n",
      "65\n",
      "FizzBuzz\n",
      "67\n",
      "Fizz\n",
      "69\n",
      "Fizz\n",
      "71\n",
      "Fizz\n",
      "73\n",
      "Fizz\n",
      "75\n",
      "Fizz\n",
      "Buzz\n",
      "Fizz\n",
      "79\n",
      "Fizz\n",
      "81\n",
      "Fizz\n",
      "83\n",
      "Fizz\n",
      "85\n",
      "Fizz\n",
      "87\n",
      "FizzBuzz\n",
      "89\n",
      "Fizz\n",
      "91\n",
      "Fizz\n",
      "93\n",
      "Fizz\n",
      "95\n",
      "Fizz\n",
      "97\n",
      "Fizz\n",
      "Buzz\n",
      "Fizz\n"
     ]
    }
   ],
   "source": [
    "for i in range(1, 101):\n",
    "    if i%2 == 0 and i%11 == 0:\n",
    "        print('FizzBuzz')\n",
    "    elif i%2 == 0:\n",
    "        print('Fizz')\n",
    "    elif i%11 == 0:\n",
    "        print('Buzz')\n",
    "    else:\n",
    "        print(i)"
   ]
  },
  {
   "cell_type": "code",
   "execution_count": 41,
   "id": "2cd3e0f4",
   "metadata": {},
   "outputs": [
    {
     "name": "stdout",
     "output_type": "stream",
     "text": [
      "35 40\n",
      "FizzBuzz\n",
      "36\n",
      "37\n",
      "38\n",
      "39\n",
      "Fizz\n"
     ]
    }
   ],
   "source": [
    "a, b = map(int, input().split())\n",
    "\n",
    "if 1 <= a <= 1000 and 10 <= b <= 1000:\n",
    "    for i in range (a,b+1):\n",
    "        if i % 5 == 0 and i % 7 == 0:\n",
    "            print(\"FizzBuzz\")\n",
    "        elif i % 5 == 0:\n",
    "            print(\"Fizz\")\n",
    "        elif i % 7 == 0:\n",
    "            print(\"Buzz\")\n",
    "        else:\n",
    "            print(i)"
   ]
  },
  {
   "cell_type": "code",
   "execution_count": 176,
   "id": "232e30d4",
   "metadata": {},
   "outputs": [
    {
     "name": "stdout",
     "output_type": "stream",
     "text": [
      "하나의 문자열을 입력하세요:1 번 친구 우진 을 소개합니다.\n",
      "1 번 친구 우진 을 소개합니다."
     ]
    }
   ],
   "source": [
    "a = input(\"하나의 문자열을 입력하세요:\")\n",
    "\n",
    "for i in range (0, len(a)):\n",
    "    if a[i] == \"a\":\n",
    "        pass\n",
    "    else:\n",
    "        print(a[i], end = \"\")"
   ]
  },
  {
   "cell_type": "code",
   "execution_count": 180,
   "id": "6de45007",
   "metadata": {
    "scrolled": true
   },
   "outputs": [
    {
     "name": "stdout",
     "output_type": "stream",
     "text": [
      "1 번 친구 우진 을 소개합니다.\n",
      "2 번 친구 시은 을 소개합니다.\n",
      "3 번 친구 메이킷 을 소개합니다.\n",
      "4 번 친구 지연 을 소개합니다.\n",
      "5 번 친구 지훈 을 소개합니다.\n"
     ]
    }
   ],
   "source": [
    "name = [\"우진\", \"시은\", \"메이킷\", \"지연\", \"지훈\"]\n",
    "\n",
    "for i in range(0, len(name)):\n",
    "    print(i+1, \"번 친구\", name[i], \"을 소개합니다.\")"
   ]
  },
  {
   "cell_type": "code",
   "execution_count": 186,
   "id": "743ecdd1",
   "metadata": {},
   "outputs": [
    {
     "name": "stdout",
     "output_type": "stream",
     "text": [
      "1 2 3 4 6 7 8 9 11 12 13 14 16 17 18 19 21 22 23 24 26 27 28 29 "
     ]
    }
   ],
   "source": [
    "for i in range (1, 31):\n",
    "    if i%5 == 0:\n",
    "        continue\n",
    "    else:\n",
    "        print(i, end = \" \")"
   ]
  },
  {
   "cell_type": "code",
   "execution_count": 205,
   "id": "f5a1a71b",
   "metadata": {},
   "outputs": [
    {
     "name": "stdout",
     "output_type": "stream",
     "text": [
      "100\n",
      "498\n"
     ]
    }
   ],
   "source": [
    "num = int(input())\n",
    "\n",
    "for i in range (0, num):\n",
    "    count = 3+(5*i)\n",
    "print(count)"
   ]
  },
  {
   "cell_type": "code",
   "execution_count": 220,
   "id": "b8509590",
   "metadata": {},
   "outputs": [
    {
     "name": "stdout",
     "output_type": "stream",
     "text": [
      "1 3 5\n",
      "1.0\n"
     ]
    }
   ],
   "source": [
    "a = input().split()\n",
    "a = list(map(int, a))\n",
    "\n",
    "print(min(a))"
   ]
  },
  {
   "cell_type": "code",
   "execution_count": 232,
   "id": "38001ced",
   "metadata": {},
   "outputs": [
    {
     "name": "stdout",
     "output_type": "stream",
     "text": [
      "160\n",
      "170 140 130\n",
      "터널 통과 불가능\n",
      "140\n",
      "130\n"
     ]
    }
   ],
   "source": [
    "car = int(input())\n",
    "height = input().split()\n",
    "height = list(map(int, height))\n",
    "\n",
    "if min(height) <= car:\n",
    "    print(\"터널 통과 불가능\")\n",
    "    for i in range(0, len(height)):\n",
    "        if height[i] <= car:\n",
    "            print(height[i])\n",
    "else:\n",
    "    print(\"터널 통과 가능\")"
   ]
  },
  {
   "cell_type": "code",
   "execution_count": 237,
   "id": "9366ee97",
   "metadata": {},
   "outputs": [
    {
     "name": "stdout",
     "output_type": "stream",
     "text": [
      "300\n"
     ]
    }
   ],
   "source": [
    "num = list(range(1, 1001))\n",
    "num = str(num)\n",
    "a = num.count(\"7\")\n",
    "print(a)"
   ]
  },
  {
   "cell_type": "code",
   "execution_count": 256,
   "id": "b3961d83",
   "metadata": {},
   "outputs": [
    {
     "name": "stdout",
     "output_type": "stream",
     "text": [
      "12\n",
      "1 2 3 4 6 12\n",
      "12 6 4 3 2 1\n"
     ]
    }
   ],
   "source": [
    "num = int(input())\n",
    "a = []\n",
    "\n",
    "if num >= 0:\n",
    "    for i in range(1, num+1):\n",
    "        if num%i == 0:\n",
    "            str_i = str(i)\n",
    "            a.append(str_i)\n",
    "    print(\" \".join(a))\n",
    "    print(\" \".join(a[::-1]))"
   ]
  },
  {
   "cell_type": "code",
   "execution_count": 259,
   "id": "38c58c23",
   "metadata": {},
   "outputs": [
    {
     "name": "stdout",
     "output_type": "stream",
     "text": [
      "5\n",
      "3 2 -20 100 35\n",
      "리스트 최댓값 100\n",
      "리스트 최솟값 -20\n",
      "리스트 평균값 24.0\n"
     ]
    }
   ],
   "source": [
    "count = int(input())\n",
    "num = input().split()\n",
    "num = list(map(int, num))\n",
    "\n",
    "print(\"리스트 최댓값\", max(num))\n",
    "print(\"리스트 최솟값\", min(num))\n",
    "print(\"리스트 평균값\", sum(num)/ len(num))"
   ]
  },
  {
   "cell_type": "code",
   "execution_count": 267,
   "id": "e22d6490",
   "metadata": {},
   "outputs": [
    {
     "name": "stdout",
     "output_type": "stream",
     "text": [
      "1354\n",
      "13\n"
     ]
    }
   ],
   "source": [
    "num = input()\n",
    "count = 0\n",
    "\n",
    "for i in range(0,len(num)):\n",
    "    count  = count + int(num[i])\n",
    "print(count)"
   ]
  },
  {
   "cell_type": "code",
   "execution_count": 289,
   "id": "aff4824d",
   "metadata": {},
   "outputs": [
    {
     "name": "stdout",
     "output_type": "stream",
     "text": [
      "Makit Code Lab !!\n",
      "Pdnlw#Frgh#Ode#$$\n"
     ]
    }
   ],
   "source": [
    "a = input()\n",
    "b = []\n",
    "\n",
    "for i in range(0,len(a)):\n",
    "    b.append(chr(ord(a[i])+3))\n",
    "\n",
    "print(\"\".join(b))"
   ]
  },
  {
   "cell_type": "code",
   "execution_count": 300,
   "id": "0d3d025c",
   "metadata": {},
   "outputs": [
    {
     "name": "stdout",
     "output_type": "stream",
     "text": [
      "Makit Code Lab !!\n",
      "mAKIT cODE lAB !!\n"
     ]
    }
   ],
   "source": [
    "a = input()\n",
    "b = []\n",
    "\n",
    "for i in range(0,len(a)):\n",
    "    if 64 < ord(a[i]) < 97:\n",
    "        b.append(chr(ord(a[i])+32))\n",
    "    elif ord(a[i]) >= 97:\n",
    "        b.append(chr(ord(a[i])-32))\n",
    "    else:\n",
    "        b.append(chr(ord(a[i])))\n",
    "print(\"\".join(b))"
   ]
  },
  {
   "cell_type": "markdown",
   "id": "5864f5e2",
   "metadata": {},
   "source": [
    "### 피보나치 수열"
   ]
  },
  {
   "cell_type": "code",
   "execution_count": 1,
   "id": "1386b90d",
   "metadata": {},
   "outputs": [
    {
     "name": "stdout",
     "output_type": "stream",
     "text": [
      "10\n",
      "55\n"
     ]
    }
   ],
   "source": [
    "a = int(input())\n",
    "fibo = [0, 1, 1]\n",
    "\n",
    "for i in range(0, a+1):\n",
    "    if i < 3:\n",
    "        continue\n",
    "    else:\n",
    "        fibo.append(fibo[i-1] +fibo[i-2])\n",
    "print(fibo[i])"
   ]
  }
 ],
 "metadata": {
  "kernelspec": {
   "display_name": "Python 3 (ipykernel)",
   "language": "python",
   "name": "python3"
  },
  "language_info": {
   "codemirror_mode": {
    "name": "ipython",
    "version": 3
   },
   "file_extension": ".py",
   "mimetype": "text/x-python",
   "name": "python",
   "nbconvert_exporter": "python",
   "pygments_lexer": "ipython3",
   "version": "3.9.0"
  }
 },
 "nbformat": 4,
 "nbformat_minor": 5
}
