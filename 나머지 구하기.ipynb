{
 "cells": [
  {
   "cell_type": "markdown",
   "id": "084b7418",
   "metadata": {},
   "source": [
    "### **🔖 나머지 구하기**"
   ]
  },
  {
   "cell_type": "markdown",
   "id": "a532f746",
   "metadata": {},
   "source": [
    "---"
   ]
  },
  {
   "cell_type": "markdown",
   "id": "4be1a2a7",
   "metadata": {},
   "source": [
    "#### **🔻 문제 설명**"
   ]
  },
  {
   "cell_type": "markdown",
   "id": "21fc7c36",
   "metadata": {},
   "source": [
    "- 정수 `num1`, `num2`가 매개변수로 주어집니다.\n",
    "- `num1`를 `num2`로 나눈 나머지를 return 하도록 solution 함수를 완성해주세요."
   ]
  },
  {
   "cell_type": "markdown",
   "id": "999fa8db",
   "metadata": {},
   "source": [
    "---"
   ]
  },
  {
   "cell_type": "markdown",
   "id": "5424eeb7",
   "metadata": {},
   "source": [
    "#### **🔻 제한사항**"
   ]
  },
  {
   "cell_type": "markdown",
   "id": "a28c12d2",
   "metadata": {},
   "source": [
    "- 0 < `num1` ≤ 100\n",
    "- 0 < `num2` ≤ 100"
   ]
  },
  {
   "cell_type": "markdown",
   "id": "b478f558",
   "metadata": {},
   "source": [
    "---"
   ]
  },
  {
   "cell_type": "markdown",
   "id": "9aa2f0e1",
   "metadata": {},
   "source": [
    "#### **🔻 입출력 예**"
   ]
  },
  {
   "cell_type": "markdown",
   "id": "376a275c",
   "metadata": {},
   "source": [
    "|num1|num2|result|\n",
    "|:--:|:--:|:--:|\n",
    "|3|2|1|\n",
    "|10|5|0|"
   ]
  },
  {
   "cell_type": "markdown",
   "id": "cb65a1d2",
   "metadata": {},
   "source": [
    "- **예제 #1**\n",
    "\n",
    "> **입출력 예**  \n",
    "> `num1`이 3, `num2`가 2이므로 3을 2로 나눈 나머지 1을 return 합니다."
   ]
  },
  {
   "cell_type": "markdown",
   "id": "3192bc03",
   "metadata": {},
   "source": [
    "- **예제 #2**\n",
    "\n",
    "> **입출력 예**  \n",
    "> `num1`이 10, `num2`가 5이므로 10을 5로 나눈 나머지 0을 return 합니다."
   ]
  },
  {
   "cell_type": "markdown",
   "id": "d2272716",
   "metadata": {},
   "source": [
    "---"
   ]
  },
  {
   "cell_type": "markdown",
   "id": "9367e256",
   "metadata": {},
   "source": [
    "#### **🔻 문제 풀이**"
   ]
  },
  {
   "cell_type": "markdown",
   "id": "3f29f2ae",
   "metadata": {},
   "source": [
    "- **풀이 #1**"
   ]
  },
  {
   "cell_type": "code",
   "execution_count": 1,
   "id": "e31a8150",
   "metadata": {},
   "outputs": [],
   "source": [
    "def solution(num1, num2):\n",
    "    return num1 % num2"
   ]
  },
  {
   "cell_type": "code",
   "execution_count": 2,
   "id": "f7ec6972",
   "metadata": {},
   "outputs": [
    {
     "data": {
      "text/plain": [
       "1"
      ]
     },
     "execution_count": 2,
     "metadata": {},
     "output_type": "execute_result"
    }
   ],
   "source": [
    "solution(3, 2)"
   ]
  },
  {
   "cell_type": "markdown",
   "id": "19b5bc4c",
   "metadata": {},
   "source": [
    "- **풀이 #2**"
   ]
  },
  {
   "cell_type": "code",
   "execution_count": 3,
   "id": "5a4ce70a",
   "metadata": {},
   "outputs": [],
   "source": [
    "solution = lambda num1, num2 : num1 % num2"
   ]
  },
  {
   "cell_type": "code",
   "execution_count": 4,
   "id": "7c587d32",
   "metadata": {},
   "outputs": [
    {
     "data": {
      "text/plain": [
       "1"
      ]
     },
     "execution_count": 4,
     "metadata": {},
     "output_type": "execute_result"
    }
   ],
   "source": [
    "solution(3, 2)"
   ]
  }
 ],
 "metadata": {
  "kernelspec": {
   "display_name": "Python 3 (ipykernel)",
   "language": "python",
   "name": "python3"
  },
  "language_info": {
   "codemirror_mode": {
    "name": "ipython",
    "version": 3
   },
   "file_extension": ".py",
   "mimetype": "text/x-python",
   "name": "python",
   "nbconvert_exporter": "python",
   "pygments_lexer": "ipython3",
   "version": "3.9.0"
  },
  "toc": {
   "base_numbering": 1,
   "nav_menu": {},
   "number_sections": true,
   "sideBar": true,
   "skip_h1_title": false,
   "title_cell": "Table of Contents",
   "title_sidebar": "Contents",
   "toc_cell": false,
   "toc_position": {},
   "toc_section_display": true,
   "toc_window_display": false
  }
 },
 "nbformat": 4,
 "nbformat_minor": 5
}
