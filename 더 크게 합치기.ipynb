{
 "cells": [
  {
   "cell_type": "markdown",
   "id": "084b7418",
   "metadata": {},
   "source": [
    "### **🔖 더 크게 합치기**"
   ]
  },
  {
   "cell_type": "markdown",
   "id": "a532f746",
   "metadata": {},
   "source": [
    "---"
   ]
  },
  {
   "cell_type": "markdown",
   "id": "4be1a2a7",
   "metadata": {},
   "source": [
    "#### **🔻 문제 설명**"
   ]
  },
  {
   "cell_type": "markdown",
   "id": "21fc7c36",
   "metadata": {},
   "source": [
    "- 연산 ⊕는 두 정수에 대한 연산으로 두 정수를 붙여서 쓴 값을 반환합니다. 예를 들면 다음과 같습니다.  \n",
    "    - 12 ⊕ 3 = 123  \n",
    "    - 3 ⊕ 12 = 312  \n",
    "- 양의 정수 `a`와 `b`가 주어졌을 때, `a` ⊕ `b`와 `b` ⊕ `a` 중 더 큰 값을 return 하는 solution 함수를 완성해 주세요.\n",
    "- 단, `a` ⊕ `b`와 `b` ⊕ `a`가 같다면 `a` ⊕ `b`를 return 합니다."
   ]
  },
  {
   "cell_type": "markdown",
   "id": "999fa8db",
   "metadata": {},
   "source": [
    "---"
   ]
  },
  {
   "cell_type": "markdown",
   "id": "5424eeb7",
   "metadata": {},
   "source": [
    "#### **🔻 제한사항**"
   ]
  },
  {
   "cell_type": "markdown",
   "id": "a28c12d2",
   "metadata": {},
   "source": [
    "- 1 ≤ `a`, `b` < 10,000"
   ]
  },
  {
   "cell_type": "markdown",
   "id": "b478f558",
   "metadata": {},
   "source": [
    "---"
   ]
  },
  {
   "cell_type": "markdown",
   "id": "9aa2f0e1",
   "metadata": {},
   "source": [
    "#### **🔻 입출력 예**"
   ]
  },
  {
   "cell_type": "markdown",
   "id": "376a275c",
   "metadata": {},
   "source": [
    "|a|b|result|\n",
    "|:--:|:--:|:--:|\n",
    "|9|91|991|\n",
    "|89|8|898|"
   ]
  },
  {
   "cell_type": "markdown",
   "id": "cb65a1d2",
   "metadata": {},
   "source": [
    "- **예제 #1**\n",
    "\n",
    "> **입출력 예**  \n",
    "> `a` ⊕ `b` = 991 이고, `b` ⊕ `a` = 919 입니다. 둘 중 더 큰 값은 991 이므로 991을 return 합니다."
   ]
  },
  {
   "cell_type": "markdown",
   "id": "cc989404",
   "metadata": {},
   "source": [
    "- **예제 #2**\n",
    "\n",
    "> **입출력 예**  \n",
    "> `a` ⊕ `b` = 898 이고, `b` ⊕ `a` = 889 입니다. 둘 중 더 큰 값은 898 이므로 898을 return 합니다."
   ]
  },
  {
   "cell_type": "markdown",
   "id": "d2272716",
   "metadata": {},
   "source": [
    "---"
   ]
  },
  {
   "cell_type": "markdown",
   "id": "9367e256",
   "metadata": {},
   "source": [
    "#### **🔻 문제 풀이**"
   ]
  },
  {
   "cell_type": "markdown",
   "id": "3f29f2ae",
   "metadata": {},
   "source": [
    "- **풀이 #1**"
   ]
  },
  {
   "cell_type": "code",
   "execution_count": 1,
   "id": "e31a8150",
   "metadata": {},
   "outputs": [],
   "source": [
    "def solution(a, b):\n",
    "    return max(int(str(b) + str(a)), int(str(a) + str(b)))"
   ]
  },
  {
   "cell_type": "code",
   "execution_count": 2,
   "id": "4dc2b69d",
   "metadata": {},
   "outputs": [
    {
     "data": {
      "text/plain": [
       "898"
      ]
     },
     "execution_count": 2,
     "metadata": {},
     "output_type": "execute_result"
    }
   ],
   "source": [
    "solution(89, 8)"
   ]
  },
  {
   "cell_type": "markdown",
   "id": "3b2bbcb9",
   "metadata": {},
   "source": [
    "- **풀이 #2**"
   ]
  },
  {
   "cell_type": "code",
   "execution_count": 3,
   "id": "b09fdab7",
   "metadata": {},
   "outputs": [],
   "source": [
    "solution = lambda a, b : max(int(str(a) + str(b)), int(str(b) + str(a)))"
   ]
  },
  {
   "cell_type": "code",
   "execution_count": 4,
   "id": "47cb2306",
   "metadata": {},
   "outputs": [
    {
     "data": {
      "text/plain": [
       "898"
      ]
     },
     "execution_count": 4,
     "metadata": {},
     "output_type": "execute_result"
    }
   ],
   "source": [
    "solution(89, 8)"
   ]
  },
  {
   "cell_type": "markdown",
   "id": "8e0385b6",
   "metadata": {},
   "source": [
    "- **풀이 #3**"
   ]
  },
  {
   "cell_type": "code",
   "execution_count": 5,
   "id": "b8f6e744",
   "metadata": {},
   "outputs": [],
   "source": [
    "def solution(a, b):\n",
    "    return max(int(f\"{a}{b}\"), int(f\"{b}{a}\"))    "
   ]
  },
  {
   "cell_type": "code",
   "execution_count": 6,
   "id": "160daee2",
   "metadata": {},
   "outputs": [
    {
     "data": {
      "text/plain": [
       "898"
      ]
     },
     "execution_count": 6,
     "metadata": {},
     "output_type": "execute_result"
    }
   ],
   "source": [
    "solution(89, 8)"
   ]
  },
  {
   "cell_type": "markdown",
   "id": "57640e4a",
   "metadata": {},
   "source": [
    "- **풀이 #4**"
   ]
  },
  {
   "cell_type": "code",
   "execution_count": 7,
   "id": "114761de",
   "metadata": {},
   "outputs": [],
   "source": [
    "solution = lambda a, b : max(int(f\"{a}{b}\"), int(f\"{b}{a}\"))"
   ]
  },
  {
   "cell_type": "code",
   "execution_count": 8,
   "id": "be9863d3",
   "metadata": {},
   "outputs": [
    {
     "data": {
      "text/plain": [
       "898"
      ]
     },
     "execution_count": 8,
     "metadata": {},
     "output_type": "execute_result"
    }
   ],
   "source": [
    "solution(89, 8)"
   ]
  },
  {
   "cell_type": "markdown",
   "id": "6b68ea76",
   "metadata": {},
   "source": [
    "- **풀이 #5**"
   ]
  },
  {
   "cell_type": "code",
   "execution_count": 9,
   "id": "5a5f7780",
   "metadata": {},
   "outputs": [],
   "source": [
    "def solution(a, b):\n",
    "    return int(str(b) + str(a)) if int(str(a) + str(b)) < int(str(b) + str(a)) else int(str(a) + str(b))"
   ]
  },
  {
   "cell_type": "code",
   "execution_count": 10,
   "id": "d9072b26",
   "metadata": {},
   "outputs": [
    {
     "data": {
      "text/plain": [
       "898"
      ]
     },
     "execution_count": 10,
     "metadata": {},
     "output_type": "execute_result"
    }
   ],
   "source": [
    "solution(89, 8)"
   ]
  },
  {
   "cell_type": "markdown",
   "id": "f5c92b13",
   "metadata": {},
   "source": [
    "- **풀이 #6**"
   ]
  },
  {
   "cell_type": "code",
   "execution_count": 11,
   "id": "590667b2",
   "metadata": {},
   "outputs": [],
   "source": [
    "solution = lambda a, b : int(str(b) + str(a)) if int(str(a) + str(b)) < int(str(b) + str(a)) else int(str(a) + str(b))"
   ]
  },
  {
   "cell_type": "code",
   "execution_count": 12,
   "id": "b6d2d5a0",
   "metadata": {},
   "outputs": [
    {
     "data": {
      "text/plain": [
       "898"
      ]
     },
     "execution_count": 12,
     "metadata": {},
     "output_type": "execute_result"
    }
   ],
   "source": [
    "solution(89, 8)"
   ]
  }
 ],
 "metadata": {
  "kernelspec": {
   "display_name": "Python 3 (ipykernel)",
   "language": "python",
   "name": "python3"
  },
  "language_info": {
   "codemirror_mode": {
    "name": "ipython",
    "version": 3
   },
   "file_extension": ".py",
   "mimetype": "text/x-python",
   "name": "python",
   "nbconvert_exporter": "python",
   "pygments_lexer": "ipython3",
   "version": "3.9.0"
  },
  "toc": {
   "base_numbering": 1,
   "nav_menu": {},
   "number_sections": true,
   "sideBar": true,
   "skip_h1_title": false,
   "title_cell": "Table of Contents",
   "title_sidebar": "Contents",
   "toc_cell": false,
   "toc_position": {},
   "toc_section_display": true,
   "toc_window_display": false
  }
 },
 "nbformat": 4,
 "nbformat_minor": 5
}
