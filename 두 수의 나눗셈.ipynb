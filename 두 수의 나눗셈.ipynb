{
 "cells": [
  {
   "cell_type": "markdown",
   "id": "084b7418",
   "metadata": {},
   "source": [
    "### **🔖 두 수의 나눗셈**"
   ]
  },
  {
   "cell_type": "markdown",
   "id": "a532f746",
   "metadata": {},
   "source": [
    "---"
   ]
  },
  {
   "cell_type": "markdown",
   "id": "4be1a2a7",
   "metadata": {},
   "source": [
    "#### **🔻 문제 설명**"
   ]
  },
  {
   "cell_type": "markdown",
   "id": "21fc7c36",
   "metadata": {},
   "source": [
    "정수 `num1`과 `num2`가 매개변수로 주어질 때, `num1`을 `num2`로 나눈 값에 1,000을 곱한 후 정수 부분을 return 하도록 soltuion 함수를 완성해주세요."
   ]
  },
  {
   "cell_type": "markdown",
   "id": "999fa8db",
   "metadata": {},
   "source": [
    "---"
   ]
  },
  {
   "cell_type": "markdown",
   "id": "5424eeb7",
   "metadata": {},
   "source": [
    "#### **🔻 제한사항**"
   ]
  },
  {
   "cell_type": "markdown",
   "id": "a28c12d2",
   "metadata": {},
   "source": [
    "- 0 < `num1` ≤ 100\n",
    "- 0 < `num2` ≤ 100"
   ]
  },
  {
   "cell_type": "markdown",
   "id": "b478f558",
   "metadata": {},
   "source": [
    "---"
   ]
  },
  {
   "cell_type": "markdown",
   "id": "9aa2f0e1",
   "metadata": {},
   "source": [
    "#### **🔻 입출력 예**"
   ]
  },
  {
   "cell_type": "markdown",
   "id": "cb65a1d2",
   "metadata": {},
   "source": [
    "> **입출력 예 #1**  \n",
    "    `num1`이 3, `num2`가 2이므로 3 / 2 = 1.5에 1,000을 곱하면 1500이 됩니다."
   ]
  },
  {
   "cell_type": "markdown",
   "id": "8fcebfca",
   "metadata": {},
   "source": [
    "> **입출력 예 #2**  \n",
    "    `num1`이 7, `num2`가 3이므로 7 / 3 = 2.33333...에 1,000을 곱하면 2333.3333.... 이 되며, 정수 부분은 2333입니다."
   ]
  },
  {
   "cell_type": "markdown",
   "id": "792d029c",
   "metadata": {},
   "source": [
    "> **입출력 예 #3**  \n",
    "    `num1`이 1, `num2`가 16이므로 1 / 16 = 0.0625에 1,000을 곱하면 62.5가 되며, 정수 부분은 62입니다."
   ]
  },
  {
   "cell_type": "markdown",
   "id": "d2272716",
   "metadata": {},
   "source": [
    "---"
   ]
  },
  {
   "cell_type": "markdown",
   "id": "9367e256",
   "metadata": {},
   "source": [
    "#### **🔻 풀이**"
   ]
  },
  {
   "cell_type": "markdown",
   "id": "3f29f2ae",
   "metadata": {},
   "source": [
    "**풀이 01**"
   ]
  },
  {
   "cell_type": "code",
   "execution_count": 1,
   "id": "4dbee9da",
   "metadata": {},
   "outputs": [],
   "source": [
    "def solution(num1, num2):\n",
    "    return int((num1 / num2) * 1000)"
   ]
  },
  {
   "cell_type": "code",
   "execution_count": 2,
   "id": "8a53b3fc",
   "metadata": {},
   "outputs": [
    {
     "data": {
      "text/plain": [
       "1500"
      ]
     },
     "execution_count": 2,
     "metadata": {},
     "output_type": "execute_result"
    }
   ],
   "source": [
    "solution(3, 2)"
   ]
  },
  {
   "cell_type": "markdown",
   "id": "8109d6c8",
   "metadata": {},
   "source": [
    "**풀이 02**"
   ]
  },
  {
   "cell_type": "code",
   "execution_count": 3,
   "id": "4c5a11e5",
   "metadata": {},
   "outputs": [],
   "source": [
    "solution = lambda num1, num2: int((num1 / num2) * 1000)"
   ]
  },
  {
   "cell_type": "code",
   "execution_count": 4,
   "id": "10a439e7",
   "metadata": {},
   "outputs": [
    {
     "data": {
      "text/plain": [
       "1500"
      ]
     },
     "execution_count": 4,
     "metadata": {},
     "output_type": "execute_result"
    }
   ],
   "source": [
    "solution(3, 2)"
   ]
  }
 ],
 "metadata": {
  "kernelspec": {
   "display_name": "Python 3 (ipykernel)",
   "language": "python",
   "name": "python3"
  },
  "language_info": {
   "codemirror_mode": {
    "name": "ipython",
    "version": 3
   },
   "file_extension": ".py",
   "mimetype": "text/x-python",
   "name": "python",
   "nbconvert_exporter": "python",
   "pygments_lexer": "ipython3",
   "version": "3.9.0"
  },
  "toc": {
   "base_numbering": 1,
   "nav_menu": {},
   "number_sections": true,
   "sideBar": true,
   "skip_h1_title": false,
   "title_cell": "Table of Contents",
   "title_sidebar": "Contents",
   "toc_cell": false,
   "toc_position": {},
   "toc_section_display": true,
   "toc_window_display": false
  }
 },
 "nbformat": 4,
 "nbformat_minor": 5
}
