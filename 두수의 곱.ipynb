{
 "cells": [
  {
   "cell_type": "markdown",
   "id": "084b7418",
   "metadata": {},
   "source": [
    "### **🔖 두수의 곱**"
   ]
  },
  {
   "cell_type": "markdown",
   "id": "a532f746",
   "metadata": {},
   "source": [
    "---"
   ]
  },
  {
   "cell_type": "markdown",
   "id": "4be1a2a7",
   "metadata": {},
   "source": [
    "#### **🔻 문제 설명**"
   ]
  },
  {
   "cell_type": "markdown",
   "id": "21fc7c36",
   "metadata": {},
   "source": [
    "정수 `num1`, `num2`가 매개변수 주어집니다. `num1`과 `num2`를 곱한 값을 return 하도록 solution 함수를 완성해주세요."
   ]
  },
  {
   "cell_type": "markdown",
   "id": "999fa8db",
   "metadata": {},
   "source": [
    "---"
   ]
  },
  {
   "cell_type": "markdown",
   "id": "5424eeb7",
   "metadata": {},
   "source": [
    "#### **🔻 제한사항**"
   ]
  },
  {
   "cell_type": "markdown",
   "id": "a28c12d2",
   "metadata": {},
   "source": [
    "- 0 ≤ `num1` ≤ 100\n",
    "- 0 ≤ `num2` ≤ 100"
   ]
  },
  {
   "cell_type": "markdown",
   "id": "b478f558",
   "metadata": {},
   "source": [
    "---"
   ]
  },
  {
   "cell_type": "markdown",
   "id": "9aa2f0e1",
   "metadata": {},
   "source": [
    "#### **🔻 입출력 예**"
   ]
  },
  {
   "cell_type": "markdown",
   "id": "2464b0ff",
   "metadata": {},
   "source": [
    "|num1|num2|result|\n",
    "|:--:|:--:|:--:|\n",
    "|3|4|12|\n",
    "|27|19|513|"
   ]
  },
  {
   "cell_type": "markdown",
   "id": "83332e2e",
   "metadata": {},
   "source": [
    "> **입출력 예 #1**<p>",
    "`num1`이 3, `num2`가 4이므로 3 * 4 = 12를 return합니다."
   ]
  },
  {
   "cell_type": "markdown",
   "id": "6b7ea151",
   "metadata": {},
   "source": [
    "> **입출력 예 #2**<p>",
    "`num1`이 27 `num2`가 19이므로 27 * 19 = 513를 return합니다."
   ]
  },
  {
   "cell_type": "markdown",
   "id": "d2272716",
   "metadata": {},
   "source": [
    "---"
   ]
  },
  {
   "cell_type": "markdown",
   "id": "9367e256",
   "metadata": {},
   "source": [
    "#### **🔻 풀이**"
   ]
  },
  {
   "cell_type": "markdown",
   "id": "42010f47",
   "metadata": {},
   "source": [
    "**풀이 01**"
   ]
  },
  {
   "cell_type": "code",
   "execution_count": 1,
   "id": "b30f21c4",
   "metadata": {},
   "outputs": [],
   "source": [
    "def solution(num1, num2):\n",
    "        return num1 * num2"
   ]
  },
  {
   "cell_type": "code",
   "execution_count": 2,
   "id": "1cca34a9",
   "metadata": {
    "scrolled": true
   },
   "outputs": [
    {
     "data": {
      "text/plain": [
       "12"
      ]
     },
     "execution_count": 2,
     "metadata": {},
     "output_type": "execute_result"
    }
   ],
   "source": [
    "solution(3, 4)"
   ]
  },
  {
   "cell_type": "markdown",
   "id": "ae812d00",
   "metadata": {},
   "source": [
    "**풀이 02**"
   ]
  },
  {
   "cell_type": "code",
   "execution_count": 3,
   "id": "2f4ff023",
   "metadata": {},
   "outputs": [],
   "source": [
    "solution = lambda num1, num2 : num1 * num2"
   ]
  },
  {
   "cell_type": "code",
   "execution_count": 4,
   "id": "0de09ed0",
   "metadata": {},
   "outputs": [
    {
     "data": {
      "text/plain": [
       "12"
      ]
     },
     "execution_count": 4,
     "metadata": {},
     "output_type": "execute_result"
    }
   ],
   "source": [
    "solution(3, 4)"
   ]
  }
 ],
 "metadata": {
  "kernelspec": {
   "display_name": "Python 3 (ipykernel)",
   "language": "python",
   "name": "python3"
  },
  "language_info": {
   "codemirror_mode": {
    "name": "ipython",
    "version": 3
   },
   "file_extension": ".py",
   "mimetype": "text/x-python",
   "name": "python",
   "nbconvert_exporter": "python",
   "pygments_lexer": "ipython3",
   "version": "3.9.0"
  },
  "toc": {
   "base_numbering": 1,
   "nav_menu": {},
   "number_sections": true,
   "sideBar": true,
   "skip_h1_title": false,
   "title_cell": "Table of Contents",
   "title_sidebar": "Contents",
   "toc_cell": false,
   "toc_position": {},
   "toc_section_display": true,
   "toc_window_display": false
  }
 },
 "nbformat": 4,
 "nbformat_minor": 5
}
