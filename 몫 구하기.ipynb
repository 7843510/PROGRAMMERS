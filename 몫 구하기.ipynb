{
 "cells": [
  {
   "cell_type": "markdown",
   "id": "084b7418",
   "metadata": {},
   "source": [
    "### **🔖 몫 구하기**"
   ]
  },
  {
   "cell_type": "markdown",
   "id": "a532f746",
   "metadata": {},
   "source": [
    "---"
   ]
  },
  {
   "cell_type": "markdown",
   "id": "4be1a2a7",
   "metadata": {},
   "source": [
    "#### **🔻 문제 설명**"
   ]
  },
  {
   "cell_type": "markdown",
   "id": "21fc7c36",
   "metadata": {},
   "source": [
    "정수 `num1`, `num2`가 매개변수로 주어질 때, `num1`을 `num2`로 나눈 몫을 return 하도록 solution 함수를 완성해주세요."
   ]
  },
  {
   "cell_type": "markdown",
   "id": "999fa8db",
   "metadata": {},
   "source": [
    "---"
   ]
  },
  {
   "cell_type": "markdown",
   "id": "5424eeb7",
   "metadata": {},
   "source": [
    "#### **🔻 제한사항**"
   ]
  },
  {
   "cell_type": "markdown",
   "id": "a28c12d2",
   "metadata": {},
   "source": [
    "- 0 < `num1` ≤ 100\n",
    "- 0 < `num2` ≤ 100"
   ]
  },
  {
   "cell_type": "markdown",
   "id": "b478f558",
   "metadata": {},
   "source": [
    "---"
   ]
  },
  {
   "cell_type": "markdown",
   "id": "9aa2f0e1",
   "metadata": {},
   "source": [
    "#### **🔻 입출력 예**"
   ]
  },
  {
   "cell_type": "markdown",
   "id": "e2044b71",
   "metadata": {},
   "source": [
    "|num1|num2|result|\n",
    "|:--:|:--:|:--:|\n",
    "|10|5|2|\n",
    "|7|2|3|"
   ]
  },
  {
   "cell_type": "markdown",
   "id": "2db96408",
   "metadata": {},
   "source": [
    "> **입출력 예 #1**<p>  \n",
    "`num1`이 10, `num2`가 5이므로 10을 5로 나눈 몫 2를 return 합니다."
   ]
  },
  {
   "cell_type": "markdown",
   "id": "43683852",
   "metadata": {},
   "source": [
    "> **입출력 예 #2**<p>  \n",
    "`num1`이 7, `num2`가 2이므로 7을 2로 나눈 몫 3를 return 합니다."
   ]
  },
  {
   "cell_type": "markdown",
   "id": "d2272716",
   "metadata": {},
   "source": [
    "---"
   ]
  },
  {
   "cell_type": "markdown",
   "id": "9367e256",
   "metadata": {},
   "source": [
    "#### **🔻 풀이**"
   ]
  },
  {
   "cell_type": "markdown",
   "id": "9518f0d8",
   "metadata": {},
   "source": [
    "**풀이 01**"
   ]
  },
  {
   "cell_type": "code",
   "execution_count": 1,
   "id": "b30f21c4",
   "metadata": {},
   "outputs": [],
   "source": [
    "def solution(num1, num2):\n",
    "    return num1 // num2"
   ]
  },
  {
   "cell_type": "code",
   "execution_count": 2,
   "id": "d90fbc7b",
   "metadata": {},
   "outputs": [
    {
     "data": {
      "text/plain": [
       "2"
      ]
     },
     "execution_count": 2,
     "metadata": {},
     "output_type": "execute_result"
    }
   ],
   "source": [
    "solution(10, 5)"
   ]
  },
  {
   "cell_type": "markdown",
   "id": "2dcd5a76",
   "metadata": {},
   "source": [
    "**풀이 02**"
   ]
  },
  {
   "cell_type": "code",
   "execution_count": 3,
   "id": "86cb7108",
   "metadata": {},
   "outputs": [],
   "source": [
    "def solution(num1, num2):\n",
    "    return divmod(num1, num2)[0]"
   ]
  },
  {
   "cell_type": "code",
   "execution_count": 4,
   "id": "52d89a7a",
   "metadata": {},
   "outputs": [
    {
     "data": {
      "text/plain": [
       "2"
      ]
     },
     "execution_count": 4,
     "metadata": {},
     "output_type": "execute_result"
    }
   ],
   "source": [
    "solution(10, 5)"
   ]
  },
  {
   "cell_type": "markdown",
   "id": "9d9f09e7",
   "metadata": {},
   "source": [
    "**풀이 03**"
   ]
  },
  {
   "cell_type": "code",
   "execution_count": 5,
   "id": "2c2c6caf",
   "metadata": {},
   "outputs": [],
   "source": [
    "solution = lambda num1, num2 : num1 // num2"
   ]
  },
  {
   "cell_type": "code",
   "execution_count": 6,
   "id": "271a6c84",
   "metadata": {},
   "outputs": [
    {
     "data": {
      "text/plain": [
       "2"
      ]
     },
     "execution_count": 6,
     "metadata": {},
     "output_type": "execute_result"
    }
   ],
   "source": [
    "solution(10, 5)"
   ]
  },
  {
   "cell_type": "markdown",
   "id": "cd7360ba",
   "metadata": {},
   "source": [
    "**풀이 04**"
   ]
  },
  {
   "cell_type": "code",
   "execution_count": 7,
   "id": "735e68eb",
   "metadata": {},
   "outputs": [],
   "source": [
    "solution = int.__floordiv__"
   ]
  },
  {
   "cell_type": "code",
   "execution_count": 8,
   "id": "ca2e58df",
   "metadata": {},
   "outputs": [
    {
     "data": {
      "text/plain": [
       "2"
      ]
     },
     "execution_count": 8,
     "metadata": {},
     "output_type": "execute_result"
    }
   ],
   "source": [
    "solution(10, 5)"
   ]
  }
 ],
 "metadata": {
  "kernelspec": {
   "display_name": "Python 3 (ipykernel)",
   "language": "python",
   "name": "python3"
  },
  "language_info": {
   "codemirror_mode": {
    "name": "ipython",
    "version": 3
   },
   "file_extension": ".py",
   "mimetype": "text/x-python",
   "name": "python",
   "nbconvert_exporter": "python",
   "pygments_lexer": "ipython3",
   "version": "3.9.0"
  },
  "toc": {
   "base_numbering": 1,
   "nav_menu": {},
   "number_sections": true,
   "sideBar": true,
   "skip_h1_title": false,
   "title_cell": "Table of Contents",
   "title_sidebar": "Contents",
   "toc_cell": false,
   "toc_position": {},
   "toc_section_display": true,
   "toc_window_display": false
  }
 },
 "nbformat": 4,
 "nbformat_minor": 5
}
