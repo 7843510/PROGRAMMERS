{
 "cells": [
  {
   "cell_type": "markdown",
   "id": "084b7418",
   "metadata": {},
   "source": [
    "### **🔖 문자 리스트를 문자열로 변환하기**"
   ]
  },
  {
   "cell_type": "markdown",
   "id": "a532f746",
   "metadata": {},
   "source": [
    "---"
   ]
  },
  {
   "cell_type": "markdown",
   "id": "4be1a2a7",
   "metadata": {},
   "source": [
    "#### **🔻 문제 설명**"
   ]
  },
  {
   "cell_type": "markdown",
   "id": "21fc7c36",
   "metadata": {},
   "source": [
    "- 문자들이 담겨있는 배열 `arr`가 주어집니다.\n",
    "- `arr`의 원소들을 순서대로 이어 붙인 문자열을 return 하는 solution함수를 작성해 주세요."
   ]
  },
  {
   "cell_type": "markdown",
   "id": "999fa8db",
   "metadata": {},
   "source": [
    "---"
   ]
  },
  {
   "cell_type": "markdown",
   "id": "5424eeb7",
   "metadata": {},
   "source": [
    "#### **🔻 제한사항**"
   ]
  },
  {
   "cell_type": "markdown",
   "id": "a28c12d2",
   "metadata": {},
   "source": [
    "- 1 ≤ `arr`의 길이 ≤ 200\n",
    "- `arr`의 원소는 전부 알파벳 소문자로 이루어진 길이가 1인 문자열입니다."
   ]
  },
  {
   "cell_type": "markdown",
   "id": "b478f558",
   "metadata": {},
   "source": [
    "---"
   ]
  },
  {
   "cell_type": "markdown",
   "id": "9aa2f0e1",
   "metadata": {},
   "source": [
    "#### **🔻 입출력 예**"
   ]
  },
  {
   "cell_type": "markdown",
   "id": "376a275c",
   "metadata": {},
   "source": [
    "|arr|result|\n",
    "|:--:|:--:|\n",
    "|[\"a\",\"b\",\"c\"]|\"abc\"|"
   ]
  },
  {
   "cell_type": "markdown",
   "id": "d2272716",
   "metadata": {},
   "source": [
    "---"
   ]
  },
  {
   "cell_type": "markdown",
   "id": "9367e256",
   "metadata": {},
   "source": [
    "#### **🔻 문제 풀이**"
   ]
  },
  {
   "cell_type": "markdown",
   "id": "3f29f2ae",
   "metadata": {},
   "source": [
    "- **풀이 #1**"
   ]
  },
  {
   "cell_type": "code",
   "execution_count": 1,
   "id": "e31a8150",
   "metadata": {},
   "outputs": [],
   "source": [
    "def solution(arr):\n",
    "    return \"\".join(arr)"
   ]
  },
  {
   "cell_type": "code",
   "execution_count": 2,
   "id": "a43d3338",
   "metadata": {},
   "outputs": [
    {
     "data": {
      "text/plain": [
       "'abc'"
      ]
     },
     "execution_count": 2,
     "metadata": {},
     "output_type": "execute_result"
    }
   ],
   "source": [
    "solution([\"a\", \"b\", \"c\"])"
   ]
  },
  {
   "cell_type": "markdown",
   "id": "e6c61c96",
   "metadata": {},
   "source": [
    "- **풀이 #2**"
   ]
  },
  {
   "cell_type": "code",
   "execution_count": 3,
   "id": "4deceffd",
   "metadata": {},
   "outputs": [],
   "source": [
    "solution = lambda arr : \"\".join(arr)"
   ]
  },
  {
   "cell_type": "code",
   "execution_count": 4,
   "id": "0f188869",
   "metadata": {},
   "outputs": [
    {
     "data": {
      "text/plain": [
       "'abc'"
      ]
     },
     "execution_count": 4,
     "metadata": {},
     "output_type": "execute_result"
    }
   ],
   "source": [
    "solution([\"a\", \"b\", \"c\"])"
   ]
  }
 ],
 "metadata": {
  "kernelspec": {
   "display_name": "Python 3 (ipykernel)",
   "language": "python",
   "name": "python3"
  },
  "language_info": {
   "codemirror_mode": {
    "name": "ipython",
    "version": 3
   },
   "file_extension": ".py",
   "mimetype": "text/x-python",
   "name": "python",
   "nbconvert_exporter": "python",
   "pygments_lexer": "ipython3",
   "version": "3.9.0"
  },
  "toc": {
   "base_numbering": 1,
   "nav_menu": {},
   "number_sections": true,
   "sideBar": true,
   "skip_h1_title": false,
   "title_cell": "Table of Contents",
   "title_sidebar": "Contents",
   "toc_cell": false,
   "toc_position": {},
   "toc_section_display": true,
   "toc_window_display": false
  }
 },
 "nbformat": 4,
 "nbformat_minor": 5
}
