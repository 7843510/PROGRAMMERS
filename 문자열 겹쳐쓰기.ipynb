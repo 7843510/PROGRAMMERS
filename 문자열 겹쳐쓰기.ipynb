{
 "cells": [
  {
   "cell_type": "markdown",
   "id": "084b7418",
   "metadata": {},
   "source": [
    "### **🔖 문자열 겹쳐쓰기**"
   ]
  },
  {
   "cell_type": "markdown",
   "id": "a532f746",
   "metadata": {},
   "source": [
    "---"
   ]
  },
  {
   "cell_type": "markdown",
   "id": "4be1a2a7",
   "metadata": {},
   "source": [
    "#### **🔻 문제 설명**"
   ]
  },
  {
   "cell_type": "markdown",
   "id": "21fc7c36",
   "metadata": {},
   "source": [
    "- 문자열 `my_string`, `overwrite_string`과 정수 `s`가 주어집니다.  \n",
    "- 문자열 `my_string`의 인덱스 `s`부터 `overwrite_string`의 길이만큼을 문자열 `overwrite_string`으로 바꾼 문자열을 return 하는 solution 함수를 작성해 주세요."
   ]
  },
  {
   "cell_type": "markdown",
   "id": "999fa8db",
   "metadata": {},
   "source": [
    "---"
   ]
  },
  {
   "cell_type": "markdown",
   "id": "5424eeb7",
   "metadata": {},
   "source": [
    "#### **🔻 제한사항**"
   ]
  },
  {
   "cell_type": "markdown",
   "id": "a28c12d2",
   "metadata": {},
   "source": [
    "- `my_string`와 `overwrite_string`은 숫자와 알파벳으로 이루어져 있습니다.\n",
    "- 1 ≤ `overwrite_string`의 길이 ≤ `my_string`의 길이 ≤ 1,000\n",
    "- 0 ≤ `s` ≤ `my_string`의 길이 - `overwrite_string`의 길이"
   ]
  },
  {
   "cell_type": "markdown",
   "id": "b478f558",
   "metadata": {},
   "source": [
    "---"
   ]
  },
  {
   "cell_type": "markdown",
   "id": "9aa2f0e1",
   "metadata": {},
   "source": [
    "#### **🔻 입출력 예**"
   ]
  },
  {
   "cell_type": "markdown",
   "id": "376a275c",
   "metadata": {},
   "source": [
    "|my_string|overwrite_string|s|result|\n",
    "|:--:|:--:|:--:|:--:|\n",
    "|\"He11oWor1d\"|\"lloWorl\"|2|\"HelloWorld\"|\n",
    "|\"Program29b8UYP\"|\"merS123\"|7|\"ProgrammerS123\"|"
   ]
  },
  {
   "cell_type": "markdown",
   "id": "cb65a1d2",
   "metadata": {},
   "source": [
    "- **예제 #1**\n",
    "\n",
    "> 예제 1번의 `my_string`에서 인덱스 2부터 `overwrite_string`의 길이만큼에 해당하는 부분은 \"11oWor1\"이고 이를 \"lloWorl\"로 바꾼 \"HelloWorld\"를 return 합니다."
   ]
  },
  {
   "cell_type": "markdown",
   "id": "a4bdd9c3",
   "metadata": {},
   "source": [
    "- **예제 #2**\n",
    "\n",
    "> 예제 2번의 `my_string`에서 인덱스 7부터 `overwrite_string`의 길이만큼에 해당하는 부분은 \"29b8UYP\"이고 이를 \"merS123\"로 바꾼 \"ProgrammerS123\"를 return 합니다."
   ]
  },
  {
   "cell_type": "markdown",
   "id": "d2272716",
   "metadata": {},
   "source": [
    "---"
   ]
  },
  {
   "cell_type": "markdown",
   "id": "9367e256",
   "metadata": {},
   "source": [
    "#### **🔻 문제 풀이**"
   ]
  },
  {
   "cell_type": "markdown",
   "id": "3f29f2ae",
   "metadata": {},
   "source": [
    "- **풀이 #1**"
   ]
  },
  {
   "cell_type": "code",
   "execution_count": 1,
   "id": "e31a8150",
   "metadata": {},
   "outputs": [],
   "source": [
    "def solution(my_string, overwrite_string, s):\n",
    "    return  my_string[:s] + overwrite_string + my_string[s + len(overwrite_string):]"
   ]
  },
  {
   "cell_type": "code",
   "execution_count": 2,
   "id": "11522d3c",
   "metadata": {
    "scrolled": true
   },
   "outputs": [
    {
     "data": {
      "text/plain": [
       "'HelloWorld'"
      ]
     },
     "execution_count": 2,
     "metadata": {},
     "output_type": "execute_result"
    }
   ],
   "source": [
    "solution(\"He11oWor1d\", \"lloWorl\", 2)"
   ]
  },
  {
   "cell_type": "markdown",
   "id": "74cc31c1",
   "metadata": {},
   "source": [
    "- **풀이 #2**"
   ]
  },
  {
   "cell_type": "code",
   "execution_count": 3,
   "id": "f8c74fc6",
   "metadata": {},
   "outputs": [],
   "source": [
    "solution = lambda x, y , z : x[:z] + y + x[z + len(y):]"
   ]
  },
  {
   "cell_type": "code",
   "execution_count": 4,
   "id": "b59d1ff9",
   "metadata": {},
   "outputs": [
    {
     "data": {
      "text/plain": [
       "'HelloWorld'"
      ]
     },
     "execution_count": 4,
     "metadata": {},
     "output_type": "execute_result"
    }
   ],
   "source": [
    "solution(\"He11oWor1d\", \"lloWorl\", 2)"
   ]
  }
 ],
 "metadata": {
  "kernelspec": {
   "display_name": "Python 3 (ipykernel)",
   "language": "python",
   "name": "python3"
  },
  "language_info": {
   "codemirror_mode": {
    "name": "ipython",
    "version": 3
   },
   "file_extension": ".py",
   "mimetype": "text/x-python",
   "name": "python",
   "nbconvert_exporter": "python",
   "pygments_lexer": "ipython3",
   "version": "3.9.0"
  },
  "toc": {
   "base_numbering": 1,
   "nav_menu": {},
   "number_sections": true,
   "sideBar": true,
   "skip_h1_title": false,
   "title_cell": "Table of Contents",
   "title_sidebar": "Contents",
   "toc_cell": false,
   "toc_position": {},
   "toc_section_display": true,
   "toc_window_display": false
  }
 },
 "nbformat": 4,
 "nbformat_minor": 5
}
