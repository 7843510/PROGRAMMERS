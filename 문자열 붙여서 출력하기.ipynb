{
 "cells": [
  {
   "cell_type": "markdown",
   "id": "084b7418",
   "metadata": {},
   "source": [
    "### **🔖 문자열 붙여서 출력하기**"
   ]
  },
  {
   "cell_type": "markdown",
   "id": "a532f746",
   "metadata": {},
   "source": [
    "---"
   ]
  },
  {
   "cell_type": "markdown",
   "id": "4be1a2a7",
   "metadata": {},
   "source": [
    "#### **🔻 문제 설명**"
   ]
  },
  {
   "cell_type": "markdown",
   "id": "21fc7c36",
   "metadata": {},
   "source": [
    "- 두 개의 문자열 `str1`, `str2`가 공백으로 구분되어 입력으로 주어집니다.  \n",
    "- 입출력 예와 같이 `str1`과 `str2`을 이어서 출력하는 코드를 작성해 보세요."
   ]
  },
  {
   "cell_type": "markdown",
   "id": "999fa8db",
   "metadata": {},
   "source": [
    "---"
   ]
  },
  {
   "cell_type": "markdown",
   "id": "5424eeb7",
   "metadata": {},
   "source": [
    "#### **🔻 제한사항**"
   ]
  },
  {
   "cell_type": "markdown",
   "id": "a28c12d2",
   "metadata": {},
   "source": [
    "- 1 ≤ `str1`, `str2`의 길이 ≤ 10"
   ]
  },
  {
   "cell_type": "markdown",
   "id": "b478f558",
   "metadata": {},
   "source": [
    "---"
   ]
  },
  {
   "cell_type": "markdown",
   "id": "9aa2f0e1",
   "metadata": {},
   "source": [
    "#### **🔻 입출력 예**"
   ]
  },
  {
   "cell_type": "markdown",
   "id": "cb65a1d2",
   "metadata": {},
   "source": [
    "- **예제 #1**\n",
    "\n",
    "> **입력**  \n",
    "> apple pen\n",
    "\n",
    "> **출력**  \n",
    "> applepen"
   ]
  },
  {
   "cell_type": "markdown",
   "id": "f2d4266e",
   "metadata": {},
   "source": [
    "- **예제 #2**\n",
    "\n",
    "> **입력**  \n",
    "> Hello World!\n",
    "\n",
    "> **출력**  \n",
    "> HelloWorld!"
   ]
  },
  {
   "cell_type": "markdown",
   "id": "d2272716",
   "metadata": {},
   "source": [
    "---"
   ]
  },
  {
   "cell_type": "markdown",
   "id": "9367e256",
   "metadata": {},
   "source": [
    "#### **🔻 문제 풀이**"
   ]
  },
  {
   "cell_type": "markdown",
   "id": "3f29f2ae",
   "metadata": {},
   "source": [
    "- **풀이 #1**"
   ]
  },
  {
   "cell_type": "code",
   "execution_count": 1,
   "id": "e31a8150",
   "metadata": {},
   "outputs": [
    {
     "name": "stdout",
     "output_type": "stream",
     "text": [
      "apple pen\n",
      "applepen\n"
     ]
    }
   ],
   "source": [
    "str1, str2 = input().strip().split(' ')\n",
    "print(str1, str2, sep = \"\")"
   ]
  },
  {
   "cell_type": "markdown",
   "id": "eac8fa54",
   "metadata": {},
   "source": [
    "- **풀이 #2**"
   ]
  },
  {
   "cell_type": "code",
   "execution_count": 2,
   "id": "d860172e",
   "metadata": {},
   "outputs": [
    {
     "name": "stdout",
     "output_type": "stream",
     "text": [
      "apple pen\n",
      "applepen\n"
     ]
    }
   ],
   "source": [
    "print(input().replace(\" \", \"\"))"
   ]
  }
 ],
 "metadata": {
  "kernelspec": {
   "display_name": "Python 3 (ipykernel)",
   "language": "python",
   "name": "python3"
  },
  "language_info": {
   "codemirror_mode": {
    "name": "ipython",
    "version": 3
   },
   "file_extension": ".py",
   "mimetype": "text/x-python",
   "name": "python",
   "nbconvert_exporter": "python",
   "pygments_lexer": "ipython3",
   "version": "3.9.0"
  },
  "toc": {
   "base_numbering": 1,
   "nav_menu": {},
   "number_sections": true,
   "sideBar": true,
   "skip_h1_title": false,
   "title_cell": "Table of Contents",
   "title_sidebar": "Contents",
   "toc_cell": false,
   "toc_position": {},
   "toc_section_display": true,
   "toc_window_display": false
  }
 },
 "nbformat": 4,
 "nbformat_minor": 5
}
