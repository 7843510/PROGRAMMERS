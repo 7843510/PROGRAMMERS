{
 "cells": [
  {
   "cell_type": "markdown",
   "id": "084b7418",
   "metadata": {},
   "source": [
    "### **🔖 문자열 섞기**"
   ]
  },
  {
   "cell_type": "markdown",
   "id": "a532f746",
   "metadata": {},
   "source": [
    "---"
   ]
  },
  {
   "cell_type": "markdown",
   "id": "4be1a2a7",
   "metadata": {},
   "source": [
    "#### **🔻 문제 설명**"
   ]
  },
  {
   "cell_type": "markdown",
   "id": "21fc7c36",
   "metadata": {},
   "source": [
    "- 길이가 같은 두 문자열 `str1`과 `str2`가 주어집니다.  \n",
    "- 두 문자열의 각 문자가 앞에서부터 서로 번갈아가면서 한 번씩 등장하는 문자열을 만들어 return 하는 solution 함수를 완성해 주세요."
   ]
  },
  {
   "cell_type": "markdown",
   "id": "999fa8db",
   "metadata": {},
   "source": [
    "---"
   ]
  },
  {
   "cell_type": "markdown",
   "id": "5424eeb7",
   "metadata": {},
   "source": [
    "#### **🔻 제한사항**"
   ]
  },
  {
   "cell_type": "markdown",
   "id": "a28c12d2",
   "metadata": {},
   "source": [
    "- 1 ≤ `str1`의 길이 = `str2`의 길이 ≤ 10\n",
    "- `str1`과 `str2`는 알파벳 소문자로 이루어진 문자열입니다."
   ]
  },
  {
   "cell_type": "markdown",
   "id": "b478f558",
   "metadata": {},
   "source": [
    "---"
   ]
  },
  {
   "cell_type": "markdown",
   "id": "9aa2f0e1",
   "metadata": {},
   "source": [
    "#### **🔻 입출력 예**"
   ]
  },
  {
   "cell_type": "markdown",
   "id": "376a275c",
   "metadata": {},
   "source": [
    "|str1|str2|result|\n",
    "|:--:|:--:|:--:|\n",
    "|\"aaaaa\"|\"bbbbb\"|\"ababababab\"|"
   ]
  },
  {
   "cell_type": "markdown",
   "id": "d2272716",
   "metadata": {},
   "source": [
    "---"
   ]
  },
  {
   "cell_type": "markdown",
   "id": "9367e256",
   "metadata": {},
   "source": [
    "#### **🔻 문제 풀이**"
   ]
  },
  {
   "cell_type": "markdown",
   "id": "3f29f2ae",
   "metadata": {},
   "source": [
    "- **풀이 #1**"
   ]
  },
  {
   "cell_type": "code",
   "execution_count": 1,
   "id": "e31a8150",
   "metadata": {},
   "outputs": [],
   "source": [
    "def solution(str1, str2):\n",
    "    return \"\".join([str1[i] + str2[i] for i in range(len(str1))])"
   ]
  },
  {
   "cell_type": "code",
   "execution_count": 2,
   "id": "56b80567",
   "metadata": {},
   "outputs": [
    {
     "data": {
      "text/plain": [
       "'ababababab'"
      ]
     },
     "execution_count": 2,
     "metadata": {},
     "output_type": "execute_result"
    }
   ],
   "source": [
    "solution(\"aaaaa\", \"bbbbb\")"
   ]
  },
  {
   "cell_type": "markdown",
   "id": "4dbe7571",
   "metadata": {},
   "source": [
    "- **풀이 #2**"
   ]
  },
  {
   "cell_type": "code",
   "execution_count": 3,
   "id": "12e09edc",
   "metadata": {},
   "outputs": [],
   "source": [
    "solution = lambda str1, str2 : \"\".join([str1[i] + str2[i] for i in range(len(str1))])"
   ]
  },
  {
   "cell_type": "code",
   "execution_count": 4,
   "id": "e4e7e8e5",
   "metadata": {},
   "outputs": [
    {
     "data": {
      "text/plain": [
       "'ababababab'"
      ]
     },
     "execution_count": 4,
     "metadata": {},
     "output_type": "execute_result"
    }
   ],
   "source": [
    "solution(\"aaaaa\", \"bbbbb\")"
   ]
  }
 ],
 "metadata": {
  "kernelspec": {
   "display_name": "Python 3 (ipykernel)",
   "language": "python",
   "name": "python3"
  },
  "language_info": {
   "codemirror_mode": {
    "name": "ipython",
    "version": 3
   },
   "file_extension": ".py",
   "mimetype": "text/x-python",
   "name": "python",
   "nbconvert_exporter": "python",
   "pygments_lexer": "ipython3",
   "version": "3.9.0"
  },
  "toc": {
   "base_numbering": 1,
   "nav_menu": {},
   "number_sections": true,
   "sideBar": true,
   "skip_h1_title": false,
   "title_cell": "Table of Contents",
   "title_sidebar": "Contents",
   "toc_cell": false,
   "toc_position": {},
   "toc_section_display": true,
   "toc_window_display": false
  }
 },
 "nbformat": 4,
 "nbformat_minor": 5
}
