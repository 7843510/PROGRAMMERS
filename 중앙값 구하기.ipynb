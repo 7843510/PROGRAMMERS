{
 "cells": [
  {
   "cell_type": "markdown",
   "id": "084b7418",
   "metadata": {},
   "source": [
    "### **🔖 중앙값 구하기**"
   ]
  },
  {
   "cell_type": "markdown",
   "id": "a532f746",
   "metadata": {},
   "source": [
    "---"
   ]
  },
  {
   "cell_type": "markdown",
   "id": "4be1a2a7",
   "metadata": {},
   "source": [
    "#### **🔻 문제 설명**"
   ]
  },
  {
   "cell_type": "markdown",
   "id": "21fc7c36",
   "metadata": {},
   "source": [
    "- 중앙값은 어떤 주어진 값들을 크기의 순서대로 정렬했을 때 가장 중앙에 위치하는 값을 의미합니다.\n",
    "- 예를 들어 1, 2, 7, 10, 11의 중앙값은 7입니다.\n",
    "- 정수 배열 `array`가 매개변수로 주어질 때, 중앙값을 return 하도록 solution 함수를 완성해보세요."
   ]
  },
  {
   "cell_type": "markdown",
   "id": "999fa8db",
   "metadata": {},
   "source": [
    "---"
   ]
  },
  {
   "cell_type": "markdown",
   "id": "5424eeb7",
   "metadata": {},
   "source": [
    "#### **🔻 제한사항**"
   ]
  },
  {
   "cell_type": "markdown",
   "id": "a28c12d2",
   "metadata": {},
   "source": [
    "- `array`의 길이는 홀수입니다.\n",
    "- 0 < `array`의 길이 < 100\n",
    "- -1,000 < `array`의 원소 < 1,000"
   ]
  },
  {
   "cell_type": "markdown",
   "id": "b478f558",
   "metadata": {},
   "source": [
    "---"
   ]
  },
  {
   "cell_type": "markdown",
   "id": "9aa2f0e1",
   "metadata": {},
   "source": [
    "#### **🔻 입출력 예**"
   ]
  },
  {
   "cell_type": "markdown",
   "id": "376a275c",
   "metadata": {},
   "source": [
    "|array|result|\n",
    "|:--:|:--:|\n",
    "|[1, 2, 7, 10, 11]|7|\n",
    "|[9, -1, 0]|0|"
   ]
  },
  {
   "cell_type": "markdown",
   "id": "cb65a1d2",
   "metadata": {},
   "source": [
    "- **예제 #1**\n",
    "\n",
    "> **입출력 예**  \n",
    "> 본문과 동일합니다."
   ]
  },
  {
   "cell_type": "markdown",
   "id": "deae64be",
   "metadata": {},
   "source": [
    "- **예제 #2**\n",
    "\n",
    "> **입출력 예**  \n",
    "> 9, -1, 0을 오름차순 정렬하면 -1, 0, 9이고 가장 중앙에 위치하는 값은 0입니다."
   ]
  },
  {
   "cell_type": "markdown",
   "id": "d2272716",
   "metadata": {},
   "source": [
    "---"
   ]
  },
  {
   "cell_type": "markdown",
   "id": "9367e256",
   "metadata": {},
   "source": [
    "#### **🔻 문제 풀이**"
   ]
  },
  {
   "cell_type": "markdown",
   "id": "3f29f2ae",
   "metadata": {},
   "source": [
    "- **풀이 #1**"
   ]
  },
  {
   "cell_type": "code",
   "execution_count": 1,
   "id": "e31a8150",
   "metadata": {},
   "outputs": [],
   "source": [
    "def solution(array):\n",
    "    return sorted(array)[len(array) // 2]"
   ]
  },
  {
   "cell_type": "code",
   "execution_count": 2,
   "id": "63d21a41",
   "metadata": {},
   "outputs": [
    {
     "data": {
      "text/plain": [
       "7"
      ]
     },
     "execution_count": 2,
     "metadata": {},
     "output_type": "execute_result"
    }
   ],
   "source": [
    "solution([1, 2, 7, 10, 11])"
   ]
  },
  {
   "cell_type": "markdown",
   "id": "46e13cc2",
   "metadata": {},
   "source": [
    "- **풀이 #2**"
   ]
  },
  {
   "cell_type": "code",
   "execution_count": 3,
   "id": "7154e3f6",
   "metadata": {},
   "outputs": [],
   "source": [
    "solution = lambda array : sorted(array)[len(array) // 2]"
   ]
  },
  {
   "cell_type": "code",
   "execution_count": 4,
   "id": "568e933a",
   "metadata": {},
   "outputs": [
    {
     "data": {
      "text/plain": [
       "7"
      ]
     },
     "execution_count": 4,
     "metadata": {},
     "output_type": "execute_result"
    }
   ],
   "source": [
    "solution([1, 2, 7, 10, 11])"
   ]
  },
  {
   "cell_type": "markdown",
   "id": "6fb5a126",
   "metadata": {},
   "source": [
    "- **풀이 #3**"
   ]
  },
  {
   "cell_type": "code",
   "execution_count": 5,
   "id": "cd8be909",
   "metadata": {},
   "outputs": [],
   "source": [
    "import numpy as np\n",
    "\n",
    "def solution(array):\n",
    "    return np.median(array)"
   ]
  },
  {
   "cell_type": "code",
   "execution_count": 6,
   "id": "e286d652",
   "metadata": {},
   "outputs": [
    {
     "data": {
      "text/plain": [
       "7.0"
      ]
     },
     "execution_count": 6,
     "metadata": {},
     "output_type": "execute_result"
    }
   ],
   "source": [
    "solution([1, 2, 7, 10, 11])"
   ]
  },
  {
   "cell_type": "markdown",
   "id": "13c8db7b",
   "metadata": {},
   "source": [
    "- **풀이 #4**"
   ]
  },
  {
   "cell_type": "code",
   "execution_count": 7,
   "id": "4f1c478d",
   "metadata": {},
   "outputs": [],
   "source": [
    "import numpy as np\n",
    "\n",
    "solution = lambda array : np.median(array)"
   ]
  },
  {
   "cell_type": "code",
   "execution_count": 8,
   "id": "2e224748",
   "metadata": {},
   "outputs": [
    {
     "data": {
      "text/plain": [
       "7.0"
      ]
     },
     "execution_count": 8,
     "metadata": {},
     "output_type": "execute_result"
    }
   ],
   "source": [
    "solution([1, 2, 7, 10, 11])"
   ]
  }
 ],
 "metadata": {
  "kernelspec": {
   "display_name": "Python 3 (ipykernel)",
   "language": "python",
   "name": "python3"
  },
  "language_info": {
   "codemirror_mode": {
    "name": "ipython",
    "version": 3
   },
   "file_extension": ".py",
   "mimetype": "text/x-python",
   "name": "python",
   "nbconvert_exporter": "python",
   "pygments_lexer": "ipython3",
   "version": "3.9.0"
  },
  "toc": {
   "base_numbering": 1,
   "nav_menu": {},
   "number_sections": true,
   "sideBar": true,
   "skip_h1_title": false,
   "title_cell": "Table of Contents",
   "title_sidebar": "Contents",
   "toc_cell": false,
   "toc_position": {},
   "toc_section_display": true,
   "toc_window_display": false
  }
 },
 "nbformat": 4,
 "nbformat_minor": 5
}
