{
 "cells": [
  {
   "cell_type": "markdown",
   "id": "084b7418",
   "metadata": {},
   "source": [
    "### **🔖 특수문자 출력하기**"
   ]
  },
  {
   "cell_type": "markdown",
   "id": "a532f746",
   "metadata": {},
   "source": [
    "---"
   ]
  },
  {
   "cell_type": "markdown",
   "id": "4be1a2a7",
   "metadata": {},
   "source": [
    "#### **🔻 문제 설명**"
   ]
  },
  {
   "cell_type": "markdown",
   "id": "21fc7c36",
   "metadata": {},
   "source": [
    "- 다음과 같이 출력하도록 코드를 작성해 주세요."
   ]
  },
  {
   "cell_type": "markdown",
   "id": "999fa8db",
   "metadata": {},
   "source": [
    "---"
   ]
  },
  {
   "cell_type": "markdown",
   "id": "9aa2f0e1",
   "metadata": {},
   "source": [
    "#### **🔻 입출력 예**"
   ]
  },
  {
   "cell_type": "markdown",
   "id": "302f5917",
   "metadata": {},
   "source": [
    "- **예제 #1**\n",
    "\n",
    "> **출력**  \n",
    "> !@#$%^&*(\\'\"<>?:;"
   ]
  },
  {
   "cell_type": "markdown",
   "id": "d2272716",
   "metadata": {},
   "source": [
    "---"
   ]
  },
  {
   "cell_type": "markdown",
   "id": "9367e256",
   "metadata": {},
   "source": [
    "#### **🔻 풀이**"
   ]
  },
  {
   "cell_type": "markdown",
   "id": "d3cfab29",
   "metadata": {},
   "source": [
    "- **풀이 #1**"
   ]
  },
  {
   "cell_type": "code",
   "execution_count": 6,
   "id": "e11094bb",
   "metadata": {},
   "outputs": [
    {
     "name": "stdout",
     "output_type": "stream",
     "text": [
      "!@#$%^&*(\\'\"<>?:;\n"
     ]
    }
   ],
   "source": [
    "print('!@#$%^&*(\\\\\\'\"<>?:;')"
   ]
  },
  {
   "cell_type": "markdown",
   "id": "a04b3388",
   "metadata": {},
   "source": [
    "- **풀이 #2**"
   ]
  },
  {
   "cell_type": "code",
   "execution_count": 7,
   "id": "a6b9b7c6",
   "metadata": {
    "scrolled": false
   },
   "outputs": [
    {
     "name": "stdout",
     "output_type": "stream",
     "text": [
      "!@#$%^&*(\\'\"<>?:;\n"
     ]
    }
   ],
   "source": [
    "print(\"!@#$%^&*(\\\\'\\\"<>?:;\")"
   ]
  },
  {
   "cell_type": "markdown",
   "id": "a6ab4f95",
   "metadata": {},
   "source": [
    "- **풀이 #3**"
   ]
  },
  {
   "cell_type": "code",
   "execution_count": 8,
   "id": "b30f21c4",
   "metadata": {
    "scrolled": true
   },
   "outputs": [
    {
     "name": "stdout",
     "output_type": "stream",
     "text": [
      "!@#$%^&*('\"<>?:;\n"
     ]
    }
   ],
   "source": [
    "print('''!@#$%^&*(\\'\"<>?:;''')"
   ]
  },
  {
   "cell_type": "markdown",
   "id": "c133b352",
   "metadata": {},
   "source": [
    "- **풀이 #4**"
   ]
  },
  {
   "cell_type": "code",
   "execution_count": 9,
   "id": "bc1fb118",
   "metadata": {},
   "outputs": [
    {
     "name": "stdout",
     "output_type": "stream",
     "text": [
      "!@#$%^&*(\\'\"<>?:;\n"
     ]
    }
   ],
   "source": [
    "print(r'!@#$%^&*(\\'\"<>?:;')"
   ]
  }
 ],
 "metadata": {
  "kernelspec": {
   "display_name": "Python 3 (ipykernel)",
   "language": "python",
   "name": "python3"
  },
  "language_info": {
   "codemirror_mode": {
    "name": "ipython",
    "version": 3
   },
   "file_extension": ".py",
   "mimetype": "text/x-python",
   "name": "python",
   "nbconvert_exporter": "python",
   "pygments_lexer": "ipython3",
   "version": "3.9.0"
  },
  "toc": {
   "base_numbering": 1,
   "nav_menu": {},
   "number_sections": true,
   "sideBar": true,
   "skip_h1_title": false,
   "title_cell": "Table of Contents",
   "title_sidebar": "Contents",
   "toc_cell": false,
   "toc_position": {},
   "toc_section_display": true,
   "toc_window_display": false
  }
 },
 "nbformat": 4,
 "nbformat_minor": 5
}
